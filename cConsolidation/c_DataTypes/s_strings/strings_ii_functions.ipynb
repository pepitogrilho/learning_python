{
 "cells": [
  {
   "cell_type": "code",
   "execution_count": 1,
   "id": "da885eab-6de3-4df8-aa5b-dca1fe47ba4a",
   "metadata": {},
   "outputs": [
    {
     "name": "stdout",
     "output_type": "stream",
     "text": [
      "spam/eggs/ham\n"
     ]
    }
   ],
   "source": [
    "#join\n",
    "print(\"/\".join([\"spam\",\"eggs\", \"ham\"]))"
   ]
  },
  {
   "cell_type": "code",
   "execution_count": 2,
   "id": "73083d73-c965-454d-b313-faa7e5c0157a",
   "metadata": {},
   "outputs": [
    {
     "name": "stdout",
     "output_type": "stream",
     "text": [
      "caca\n"
     ]
    }
   ],
   "source": [
    "#replace\n",
    "print(\"baba\".replace(\"b\",\"c\"))"
   ]
  },
  {
   "cell_type": "code",
   "execution_count": 3,
   "id": "1a5fecd8-099d-4e09-99c3-bd6b0f83f4f0",
   "metadata": {},
   "outputs": [
    {
     "name": "stdout",
     "output_type": "stream",
     "text": [
      "True\n"
     ]
    }
   ],
   "source": [
    "#startswith\n",
    "print(\"This is a sentece\".startswith(\"This\"))"
   ]
  },
  {
   "cell_type": "code",
   "execution_count": 4,
   "id": "fe4fe3da-b56b-4f09-b5be-d52fae532ac5",
   "metadata": {},
   "outputs": [
    {
     "name": "stdout",
     "output_type": "stream",
     "text": [
      "True\n"
     ]
    }
   ],
   "source": [
    "#endswith\n",
    "print(\"This is a sentence\".endswith(\"sentence\"))"
   ]
  },
  {
   "cell_type": "code",
   "execution_count": 5,
   "id": "ca7c5196-04ad-49fa-94a4-67da51048eec",
   "metadata": {},
   "outputs": [
    {
     "name": "stdout",
     "output_type": "stream",
     "text": [
      "ABC\n"
     ]
    }
   ],
   "source": [
    "#upper\n",
    "print(\"abc\".upper())"
   ]
  },
  {
   "cell_type": "code",
   "execution_count": 6,
   "id": "34cf6eb6-15a2-4415-8842-1290a1aaa02e",
   "metadata": {},
   "outputs": [
    {
     "name": "stdout",
     "output_type": "stream",
     "text": [
      "abc\n"
     ]
    }
   ],
   "source": [
    "#lower\n",
    "print(\"ABC\".lower())"
   ]
  },
  {
   "cell_type": "code",
   "execution_count": 7,
   "id": "be84cd91-a1ba-4b4b-a498-153c1251d55a",
   "metadata": {},
   "outputs": [
    {
     "name": "stdout",
     "output_type": "stream",
     "text": [
      "['spam', 'eggs', 'ham']\n"
     ]
    }
   ],
   "source": [
    "#split\n",
    "print(\"spam@eggs@ham\".split(\"@\"))"
   ]
  },
  {
   "cell_type": "code",
   "execution_count": null,
   "id": "9e7ec4e5-f93d-4c79-9359-838eb5660fe6",
   "metadata": {},
   "outputs": [],
   "source": []
  }
 ],
 "metadata": {
  "kernelspec": {
   "display_name": "Python [conda env:base] *",
   "language": "python",
   "name": "conda-base-py"
  },
  "language_info": {
   "codemirror_mode": {
    "name": "ipython",
    "version": 3
   },
   "file_extension": ".py",
   "mimetype": "text/x-python",
   "name": "python",
   "nbconvert_exporter": "python",
   "pygments_lexer": "ipython3",
   "version": "3.12.7"
  }
 },
 "nbformat": 4,
 "nbformat_minor": 5
}
