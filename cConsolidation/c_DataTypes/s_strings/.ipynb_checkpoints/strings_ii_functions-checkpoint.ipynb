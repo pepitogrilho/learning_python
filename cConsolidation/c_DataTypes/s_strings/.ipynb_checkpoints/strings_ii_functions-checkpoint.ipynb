{
 "cells": [
  {
   "cell_type": "code",
   "execution_count": 3,
   "id": "aef6f956-39fa-4c49-991b-49c059d08086",
   "metadata": {},
   "outputs": [
    {
     "name": "stdout",
     "output_type": "stream",
     "text": [
      "numbers: 6,5,4\n"
     ]
    }
   ],
   "source": [
    "l01=[4,5,6]\n",
    "msg=\"numbers: {0},{1},{2}\".format(l01[2],l01[1],l01[0])\n",
    "print(msg)"
   ]
  },
  {
   "cell_type": "code",
   "execution_count": 4,
   "id": "c05341aa-bc54-489e-8128-c37379ca5846",
   "metadata": {},
   "outputs": [
    {
     "name": "stdout",
     "output_type": "stream",
     "text": [
      "abracadabra\n"
     ]
    }
   ],
   "source": [
    "print(\"{0}{1}{0}\".format(\"abra\",\"cad\"))"
   ]
  },
  {
   "cell_type": "code",
   "execution_count": 7,
   "id": "d192ae04-67b7-498e-b8d8-0be6c3d9e0b5",
   "metadata": {},
   "outputs": [
    {
     "name": "stdout",
     "output_type": "stream",
     "text": [
      "5,6\n",
      "7,9,5\n"
     ]
    }
   ],
   "source": [
    "print(\"{x},{y}\".format(x=5,y=6))\n",
    "print(\"{c},{b},{a}\".format(a=5,b=9,c=7))"
   ]
  },
  {
   "cell_type": "code",
   "execution_count": 9,
   "id": "95d4694f-d285-4ece-b68d-55e23c5237b4",
   "metadata": {},
   "outputs": [
    {
     "name": "stdout",
     "output_type": "stream",
     "text": [
      "Juan is my friend\n",
      "'Juan' is my friend\n"
     ]
    }
   ],
   "source": [
    "friend=\"Juan\"\n",
    "print(f\"{friend} is my friend\")\n",
    "friend=\"Juan\"\n",
    "print(f\"{friend!r} is my friend\")"
   ]
  },
  {
   "cell_type": "code",
   "execution_count": null,
   "id": "da885eab-6de3-4df8-aa5b-dca1fe47ba4a",
   "metadata": {},
   "outputs": [],
   "source": []
  }
 ],
 "metadata": {
  "kernelspec": {
   "display_name": "Python [conda env:base] *",
   "language": "python",
   "name": "conda-base-py"
  },
  "language_info": {
   "codemirror_mode": {
    "name": "ipython",
    "version": 3
   },
   "file_extension": ".py",
   "mimetype": "text/x-python",
   "name": "python",
   "nbconvert_exporter": "python",
   "pygments_lexer": "ipython3",
   "version": "3.12.7"
  }
 },
 "nbformat": 4,
 "nbformat_minor": 5
}
