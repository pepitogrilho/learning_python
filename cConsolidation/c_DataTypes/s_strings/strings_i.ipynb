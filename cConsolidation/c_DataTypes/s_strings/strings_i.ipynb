{
 "cells": [
  {
   "cell_type": "code",
   "execution_count": 1,
   "id": "5bdd53c8-1e2d-458b-96e7-9fbc8bafc404",
   "metadata": {},
   "outputs": [
    {
     "name": "stdout",
     "output_type": "stream",
     "text": [
      "s\n",
      "t\n"
     ]
    }
   ],
   "source": [
    "string_00 = 'string_00'; print(string_00[0]); print(string_00[1])"
   ]
  },
  {
   "cell_type": "code",
   "execution_count": 2,
   "id": "47d4728c-13f5-458a-8331-ee2e1f0b7c5e",
   "metadata": {},
   "outputs": [
    {
     "name": "stdout",
     "output_type": "stream",
     "text": [
      "single quotes\n",
      "double quotes\n",
      "12\n"
     ]
    }
   ],
   "source": [
    "string_01 = 'single quotes'; print(string_01)\n",
    "string_02 = \"double quotes\"; print(string_02)\n",
    "string_03 = \"1\"; string_03+=\"2\"; print(string_03)"
   ]
  },
  {
   "cell_type": "code",
   "execution_count": 3,
   "id": "f3323d18-c150-407f-9966-df4c91a8e74d",
   "metadata": {},
   "outputs": [
    {
     "name": "stdout",
     "output_type": "stream",
     "text": [
      "he said 'eh' !\n",
      "he said \"eh\" !\n",
      "C:\\users\n",
      "C:\\\\users\n"
     ]
    }
   ],
   "source": [
    "escaped_01 = 'he said \\'eh\\' !';    print(escaped_01)\n",
    "escaped_02 = \"he said \\\"eh\\\" !\";    print(escaped_02)\n",
    "escaped_03 = \"C:\\\\users\";           print(escaped_03)\n",
    "escaped_04 = r\"C:\\\\users\";           print(escaped_04)"
   ]
  },
  {
   "cell_type": "code",
   "execution_count": 4,
   "id": "eaacfd4c-342a-4215-aa48-ed852fba476c",
   "metadata": {},
   "outputs": [
    {
     "name": "stdout",
     "output_type": "stream",
     "text": [
      "- hello\n",
      "- hi\n",
      "\n",
      "- hello\n",
      "- hi\n"
     ]
    }
   ],
   "source": [
    "newLine_01 = '- hello\\n- hi';    print(newLine_01)\n",
    "newLine_02 = \"\"\"\n",
    "- hello\n",
    "- hi\"\"\";    print(newLine_02)"
   ]
  },
  {
   "cell_type": "code",
   "execution_count": 5,
   "id": "3087bba0-e2ba-4471-9ea6-21c25ad8f134",
   "metadata": {},
   "outputs": [
    {
     "name": "stdout",
     "output_type": "stream",
     "text": [
      "beforeTab\tafterTab\n"
     ]
    }
   ],
   "source": [
    "tab_01 = 'beforeTab\\tafterTab';    print(tab_01)"
   ]
  },
  {
   "cell_type": "code",
   "execution_count": 6,
   "id": "757b1860-c6fe-49da-b74c-42b426b56067",
   "metadata": {},
   "outputs": [
    {
     "name": "stdout",
     "output_type": "stream",
     "text": [
      "concat\n"
     ]
    }
   ],
   "source": [
    "concat_01 = \"con\"+'cat'; print(concat_01)"
   ]
  },
  {
   "cell_type": "code",
   "execution_count": 7,
   "id": "45413dd9-405e-4590-9356-5f2c247a5991",
   "metadata": {},
   "outputs": [
    {
     "name": "stdout",
     "output_type": "stream",
     "text": [
      "monjamonjamonjamonjamonja\n"
     ]
    }
   ],
   "source": [
    "multiply_01 = 5*\"monja\"; print(multiply_01)"
   ]
  },
  {
   "cell_type": "code",
   "execution_count": null,
   "id": "aef6f956-39fa-4c49-991b-49c059d08086",
   "metadata": {},
   "outputs": [],
   "source": []
  }
 ],
 "metadata": {
  "kernelspec": {
   "display_name": "Python [conda env:base] *",
   "language": "python",
   "name": "conda-base-py"
  },
  "language_info": {
   "codemirror_mode": {
    "name": "ipython",
    "version": 3
   },
   "file_extension": ".py",
   "mimetype": "text/x-python",
   "name": "python",
   "nbconvert_exporter": "python",
   "pygments_lexer": "ipython3",
   "version": "3.12.7"
  }
 },
 "nbformat": 4,
 "nbformat_minor": 5
}
