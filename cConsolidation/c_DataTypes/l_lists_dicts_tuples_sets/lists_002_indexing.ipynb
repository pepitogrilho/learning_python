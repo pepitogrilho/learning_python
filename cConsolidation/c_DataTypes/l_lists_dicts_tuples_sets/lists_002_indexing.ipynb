{
 "cells": [
  {
   "cell_type": "code",
   "execution_count": 47,
   "id": "9854501e-bb0d-467d-a842-ee8c08668eb3",
   "metadata": {},
   "outputs": [
    {
     "name": "stdout",
     "output_type": "stream",
     "text": [
      "[0, 1, 2, 3, 4, 5, 6, 7, 8, 9]\n",
      "x[-1]=9\n",
      "x[0]=0\n",
      "x[1]=1\n",
      "x[0:1]=[0]\n",
      "x[0:2]=[0, 1]\n",
      "x[:2]=[0, 1]\n",
      "x[1:2]=[1]\n",
      "x[1:3]=[1, 2]\n",
      "x[0:3]=[0, 1, 2]\n",
      "x[:3]=[0, 1, 2]\n",
      "x[3:]=[3, 4, 5, 6, 7, 8, 9]\n",
      "x[-3:]=[7, 8, 9]\n",
      "x[:]=[0, 1, 2, 3, 4, 5, 6, 7, 8, 9]\n"
     ]
    }
   ],
   "source": [
    "x = [0, 1, 2, 3, 4, 5, 6, 7, 8, 9]; print(x)\n",
    "x[-1]  ;print(f\"x[-1]={x[-1]}\")\n",
    "x[0]   ;print(f\"x[0]={x[0]}\")\n",
    "x[1]   ;print(f\"x[1]={x[1]}\")\n",
    "x[0:1] ;print(f\"x[0:1]={x[0:1]}\")\n",
    "x[0:2] ;print(f\"x[0:2]={x[0:2]}\")\n",
    "x[:2]  ;print(f\"x[:2]={x[:2]}\")\n",
    "x[1:2] ;print(f\"x[1:2]={x[1:2]}\")\n",
    "x[1:3] ;print(f\"x[1:3]={x[1:3]}\")\n",
    "x[0:3] ;print(f\"x[0:3]={x[0:3]}\")\n",
    "x[:3]  ;print(f\"x[:3]={x[:3]}\")\n",
    "x[3:]  ;print(f\"x[3:]={x[3:]}\")\n",
    "x[-3:] ;print(f\"x[-3:]={x[-3:]}\")\n",
    "x[:]   ;print(f\"x[:]={x[:]}\")"
   ]
  },
  {
   "cell_type": "code",
   "execution_count": null,
   "id": "cc7e64bd-8283-499f-adb0-49dec69b42e1",
   "metadata": {},
   "outputs": [],
   "source": [
    "x[2:5]   ;print(f\"x[2:5]={x[2:5]}\")\n",
    "x[5:2]   ;print(f\"x[5:5]={x[2:5]}\")\n",
    "five_to_three = x[5:2:-1]            # [5, 4, 3]"
   ]
  },
  {
   "cell_type": "code",
   "execution_count": 50,
   "id": "e0a7cbf3-593a-406c-8f5e-77504097c9c0",
   "metadata": {},
   "outputs": [
    {
     "name": "stdout",
     "output_type": "stream",
     "text": [
      "x[::1] =[0, 1, 2, 3, 4, 5, 6, 7, 8, 9]\n",
      "x[::2] =[0, 2, 4, 6, 8]\n",
      "x[::3] =[0, 3, 6, 9]\n",
      "x[0:3:1] =[0, 1, 2]\n",
      "x[:3:1] =[0, 1, 2]\n"
     ]
    }
   ],
   "source": [
    "xii = x[::1]       ;print(f\"x[::1] ={x[::1] }\")\n",
    "xii = x[::2]       ;print(f\"x[::2] ={x[::2] }\")\n",
    "xii = x[::3]       ;print(f\"x[::3] ={x[::3] }\")\n",
    "\n",
    "xii = x[0:3:1]       ;print(f\"x[0:3:1] ={x[0:3:1] }\")\n",
    "xii = x[:3:1]       ;print(f\"x[:3:1] ={x[:3:1] }\")\n",
    "\n",
    "every_third = x[::3]                 # [-1, 3, 6, 9]\n",
    "five_to_three = x[5:2:-1]            # [5, 4, 3]"
   ]
  },
  {
   "cell_type": "code",
   "execution_count": null,
   "id": "8fad280f-863b-4a60-8991-75474b69f19a",
   "metadata": {},
   "outputs": [],
   "source": [
    "#method : index(X)\n",
    "letters = ['p', 'q', 'r', 's', 'p', 'u']\n",
    "print(letters.index('r'))\n",
    "print(letters.index('p'))"
   ]
  }
 ],
 "metadata": {
  "kernelspec": {
   "display_name": "Python [conda env:base] *",
   "language": "python",
   "name": "conda-base-py"
  },
  "language_info": {
   "codemirror_mode": {
    "name": "ipython",
    "version": 3
   },
   "file_extension": ".py",
   "mimetype": "text/x-python",
   "name": "python",
   "nbconvert_exporter": "python",
   "pygments_lexer": "ipython3",
   "version": "3.12.7"
  }
 },
 "nbformat": 4,
 "nbformat_minor": 5
}
