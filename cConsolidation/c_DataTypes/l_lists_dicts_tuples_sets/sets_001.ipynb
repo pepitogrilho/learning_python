{
 "cells": [
  {
   "cell_type": "code",
   "execution_count": null,
   "id": "319322c7-9d44-4fe3-8219-385ea9d3ffab",
   "metadata": {},
   "outputs": [],
   "source": [
    "#A set in Python is an unordered collection of unique elements. \n",
    "#It’s used to remove duplicates, check for fast membership, and perform mathematical set operations like union and intersection. \n",
    "#Sets are ideal for comparing groups, filtering data, and tracking items without repetition.\n",
    "# cannot contain duplicate elements\n",
    "# it's faster to check wheather an item is part of a set\n",
    "# instead of \"append\", they use \"add\"\n",
    "# \"remove\" removes a specific element\n",
    "# \"pop\" removes an element"
   ]
  },
  {
   "cell_type": "code",
   "execution_count": 6,
   "id": "90d7d6e5-bd38-4d69-87fd-b9ae1b4c7ca8",
   "metadata": {},
   "outputs": [
    {
     "name": "stdout",
     "output_type": "stream",
     "text": [
      "{1, 2, 3, 4, 5}\n",
      "True\n",
      "False\n"
     ]
    }
   ],
   "source": [
    "#1st way for creating a SET: directly\n",
    "num_set = {1, 2, 3, 4, 5, 5}\n",
    "print(num_set)\n",
    "print(3 in num_set)\n",
    "print(6 in num_set)"
   ]
  },
  {
   "cell_type": "code",
   "execution_count": 8,
   "id": "c9d0b283-1471-4f3e-803d-323d40ee22cc",
   "metadata": {},
   "outputs": [
    {
     "name": "stdout",
     "output_type": "stream",
     "text": [
      "{'3', '2', '1'}\n"
     ]
    }
   ],
   "source": [
    "#2nd way for creating a SET: list > set(list)\n",
    "word_list = [\"1\", \"2\", \"3\", \"3\"]\n",
    "word_set = set(word_list)\n",
    "print(word_set)"
   ]
  },
  {
   "cell_type": "code",
   "execution_count": 9,
   "id": "f79c62fc-29ad-4971-bdf4-bc181236b41e",
   "metadata": {},
   "outputs": [
    {
     "name": "stdout",
     "output_type": "stream",
     "text": [
      "{1, 2, 3, 4, 5, 6}\n",
      "{1, 2, 3, 4, 5, 6, -7}\n",
      "{1, 2, 4, 5, 6, -7}\n",
      "{2, 4, 5, 6, -7}\n",
      "{4, 5, 6, -7}\n",
      "{5, 6, -7}\n",
      "{6, -7}\n",
      "{-7}\n",
      "set()\n"
     ]
    }
   ],
   "source": [
    "num_set = {1, 2, 1, 3, 1, 4, 5, 6}; print(num_set)\n",
    "num_set.add(-7); print(num_set)\n",
    "num_set.remove(3); print(num_set)\n",
    "num_set.pop(); print(num_set)\n",
    "num_set.pop(); print(num_set)\n",
    "num_set.pop(); print(num_set)\n",
    "num_set.pop(); print(num_set)\n",
    "num_set.pop(); print(num_set)\n",
    "num_set.pop(); print(num_set)"
   ]
  },
  {
   "cell_type": "code",
   "execution_count": 13,
   "id": "478c32f9-4f39-40ca-8e76-17d93a30ff59",
   "metadata": {},
   "outputs": [
    {
     "name": "stdout",
     "output_type": "stream",
     "text": [
      "union: {1, 2, 3, 4, 5, 6, 7, 8, 9}\n",
      "intersection: {4, 5, 6}\n",
      "difference: {1, 2, 3}\n",
      "symmetric difference: {1, 2, 3, 7, 8, 9}\n"
     ]
    }
   ],
   "source": [
    "first_set = {1, 2, 3, 4, 5, 6}\n",
    "second_set = {4, 5, 6, 7, 8, 9}\n",
    "\n",
    "#union\n",
    "print(f\"union: {first_set | second_set}\")\n",
    "\n",
    "#intersection\n",
    "print(f\"intersection: {first_set & second_set}\")\n",
    "\n",
    "#difference\n",
    "print(f\"difference: {first_set - second_set}\")\n",
    "\n",
    "#symmetric difference\n",
    "print(f\"symmetric difference: {first_set ^ second_set}\")\n"
   ]
  },
  {
   "cell_type": "code",
   "execution_count": null,
   "id": "f83a471a-62bc-4ab6-a11e-935c4cbe9449",
   "metadata": {},
   "outputs": [],
   "source": []
  }
 ],
 "metadata": {
  "kernelspec": {
   "display_name": "Python [conda env:base] *",
   "language": "python",
   "name": "conda-base-py"
  },
  "language_info": {
   "codemirror_mode": {
    "name": "ipython",
    "version": 3
   },
   "file_extension": ".py",
   "mimetype": "text/x-python",
   "name": "python",
   "nbconvert_exporter": "python",
   "pygments_lexer": "ipython3",
   "version": "3.12.7"
  }
 },
 "nbformat": 4,
 "nbformat_minor": 5
}
