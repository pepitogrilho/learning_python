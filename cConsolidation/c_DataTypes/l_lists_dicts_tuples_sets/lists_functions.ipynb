{
 "cells": [
  {
   "cell_type": "code",
   "execution_count": 5,
   "id": "785e49d2-7fa6-4407-bb6e-829acb9996da",
   "metadata": {},
   "outputs": [
    {
     "name": "stdout",
     "output_type": "stream",
     "text": [
      "n=(0, 55) // type(n)=<class 'tuple'>\n",
      "n=(1, 44) // type(n)=<class 'tuple'>\n",
      "n=(2, 33) // type(n)=<class 'tuple'>\n",
      "n=(3, 22) // type(n)=<class 'tuple'>\n",
      "n=(4, 11) // type(n)=<class 'tuple'>\n",
      "{0: 55, 1: 44, 2: 33, 3: 22, 4: 11}\n"
     ]
    }
   ],
   "source": [
    "# SHOW (index)+(value) with ENUMERATE\n",
    "nums=[55,44,33,22,11]\n",
    "for n in enumerate(nums):\n",
    "    print(f\"n={n} // type(n)={type(n)}\")\n",
    "num_index = dict(enumerate(nums)); print(num_index)"
   ]
  },
  {
   "cell_type": "code",
   "execution_count": 8,
   "id": "6a9f0d65-a607-451a-ba16-aadc433425fc",
   "metadata": {},
   "outputs": [
    {
     "name": "stdout",
     "output_type": "stream",
     "text": [
      "len(nums)=5 // sum(nums)=165\n"
     ]
    }
   ],
   "source": [
    "nums=[55,44,33,22,11]\n",
    "print(f\"len(nums)={len(nums)} // sum(nums)={sum(nums)}\")"
   ]
  },
  {
   "cell_type": "code",
   "execution_count": null,
   "id": "ed5f4236-59ac-46e2-8332-a910e6dad20a",
   "metadata": {},
   "outputs": [],
   "source": []
  }
 ],
 "metadata": {
  "kernelspec": {
   "display_name": "Python [conda env:base] *",
   "language": "python",
   "name": "conda-base-py"
  },
  "language_info": {
   "codemirror_mode": {
    "name": "ipython",
    "version": 3
   },
   "file_extension": ".py",
   "mimetype": "text/x-python",
   "name": "python",
   "nbconvert_exporter": "python",
   "pygments_lexer": "ipython3",
   "version": "3.12.7"
  }
 },
 "nbformat": 4,
 "nbformat_minor": 5
}
