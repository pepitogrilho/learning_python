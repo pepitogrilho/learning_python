{
 "cells": [
  {
   "cell_type": "code",
   "execution_count": 3,
   "id": "0ebb7aed-9fe6-4fd5-933a-fea739f06596",
   "metadata": {},
   "outputs": [
    {
     "data": {
      "text/plain": [
       "range(0, 4)"
      ]
     },
     "execution_count": 3,
     "metadata": {},
     "output_type": "execute_result"
    }
   ],
   "source": [
    "range(len(ints))"
   ]
  },
  {
   "cell_type": "code",
   "execution_count": 7,
   "id": "ee452d54-d711-43ef-b5e1-6ca414d6f5bf",
   "metadata": {},
   "outputs": [],
   "source": [
    "m=[\n",
    "    [1,2,3],\n",
    "    [4,5,6],\n",
    "    [7,8,9]\n",
    "]\n",
    "\n",
    "m[0]\n",
    "m[0][0]\n",
    "\n",
    "for i in range(len(m)):\n",
    "    print(m[i],len(m[i]))\n",
    "\n",
    "for i in range(len(m)):\n",
    "    print(m[i], end=\"\")\n",
    "    for j in range(len(m[i])):\n",
    "        print(m[i][j], end=\"\")\n",
    "    print()"
   ]
  },
  {
   "cell_type": "code",
   "execution_count": 12,
   "id": "b4be4a7b-fe37-4bd9-b7df-1edb13e23c31",
   "metadata": {},
   "outputs": [
    {
     "name": "stdout",
     "output_type": "stream",
     "text": [
      "ints_01:[0]\n",
      "ints_01:[0, 1]\n",
      "ints_01:[0, 1, 2]\n",
      "ints_01:[0, 1]\n",
      "ints_01:[0]\n"
     ]
    }
   ],
   "source": [
    "#methods: append(x), pop() ...............\n",
    "ints_01=[0];        print(\"ints_01:\",end=\"\"); print(ints_01)\n",
    "ints_01.append(1);  print(\"ints_01:\",end=\"\"); print(ints_01)\n",
    "ints_01.append(2);  print(\"ints_01:\",end=\"\"); print(ints_01)\n",
    "ints_01.pop();      print(\"ints_01:\",end=\"\"); print(ints_01)\n",
    "ints_01.pop();      print(\"ints_01:\",end=\"\"); print(ints_01)"
   ]
  },
  {
   "cell_type": "code",
   "execution_count": 13,
   "id": "ba0b3c02-df60-41aa-b7eb-1cec76fe938c",
   "metadata": {},
   "outputs": [
    {
     "name": "stdout",
     "output_type": "stream",
     "text": [
      "\"INSERT\" is a method similar to \"append\"\n",
      "ints_02=[1, 3]\n",
      "ints_02.insert(1,2)...[1, 2, 3]\n",
      "ints_02.insert(0,0)...[0, 1, 2, 3]\n",
      "\n",
      "\n"
     ]
    }
   ],
   "source": [
    "#methods : \"INSERT\" ...............\n",
    "print(\"\\\"INSERT\\\" is a method similar to \\\"append\\\"\")\n",
    "ints_02=[1,3];       print(\"ints_02=\"+str(ints_02))\n",
    "ints_02.insert(1,2); print(\"ints_02.insert(1,2)...\"+str(ints_02))\n",
    "ints_02.insert(0,0); print(\"ints_02.insert(0,0)...\"+str(ints_02))\n",
    "print(\"\\n\")"
   ]
  },
  {
   "cell_type": "code",
   "execution_count": 60,
   "id": "676b510a-228e-4ef2-90a6-094084328f70",
   "metadata": {},
   "outputs": [
    {
     "name": "stdout",
     "output_type": "stream",
     "text": [
      "x=[1, 2, 3]\n",
      "x.extend([4,5,6])=[1, 2, 3, 4, 5, 6]\n",
      "x.extend([4,5,6])=[1, 2, 3, 4, 5, 6, 4, 5, 6]\n"
     ]
    }
   ],
   "source": [
    "#methods : \"EXTEND\" ...............\n",
    "x=[1,2,3];         print(f\"x={x}\")\n",
    "x.extend([4,5,6]); print(f\"x.extend([4,5,6])={x}\")\n",
    "x.extend([4,5,6]); print(f\"x.extend([4,5,6])={x}\")"
   ]
  },
  {
   "cell_type": "code",
   "execution_count": 14,
   "id": "e895aafa-dc16-4c3c-be2a-d1afed1a9050",
   "metadata": {},
   "outputs": [
    {
     "name": "stdout",
     "output_type": "stream",
     "text": [
      "2\n",
      "0\n"
     ]
    }
   ],
   "source": [
    "#method : index(X)\n",
    "letters = ['p', 'q', 'r', 's', 'p', 'u']\n",
    "print(letters.index('r'))\n",
    "print(letters.index('p'))"
   ]
  },
  {
   "cell_type": "code",
   "execution_count": 15,
   "id": "758af863-eb13-471d-b1bc-3c4078d1b26e",
   "metadata": {},
   "outputs": [
    {
     "name": "stdout",
     "output_type": "stream",
     "text": [
      "p\n",
      "u\n",
      "2\n",
      "1\n"
     ]
    }
   ],
   "source": [
    "#methods: min, max, count\n",
    "print(min(letters))\n",
    "print(max(letters))\n",
    "print(letters.count('p'))\n",
    "print(letters.count('q'))"
   ]
  },
  {
   "cell_type": "code",
   "execution_count": 16,
   "id": "a85fc244-e0cb-42af-b04c-a80f9f4269e6",
   "metadata": {},
   "outputs": [
    {
     "name": "stdout",
     "output_type": "stream",
     "text": [
      "len(letters):\n",
      "6\n"
     ]
    }
   ],
   "source": [
    "#len = length?\n",
    "print(\"len(letters):\"); print(len(letters))"
   ]
  },
  {
   "cell_type": "code",
   "execution_count": 17,
   "id": "37f79d4b-8400-405f-bd20-9291d63acc5a",
   "metadata": {},
   "outputs": [
    {
     "name": "stdout",
     "output_type": "stream",
     "text": [
      "['u', 'p', 's', 'r', 'q', 'p']\n",
      "['u', 'p', 'r', 'q', 'p']\n"
     ]
    }
   ],
   "source": [
    "#list/array : more methods ....................\n",
    "letters.reverse()\n",
    "print(letters)\n",
    "letters.remove('s')\n",
    "print(letters)"
   ]
  },
  {
   "cell_type": "code",
   "execution_count": 18,
   "id": "35f21e5a-80c6-45d8-a9e6-4c07e2e8007b",
   "metadata": {},
   "outputs": [
    {
     "name": "stdout",
     "output_type": "stream",
     "text": [
      "ints_01:\n",
      "[0, 1, 2, 3]\n",
      "ints_02:\n",
      "[3, 2, 1, 0]\n",
      "ints_01+ints_02:\n",
      "[0, 1, 2, 3, 3, 2, 1, 0]\n",
      "ints_01 * 3\n",
      "[0, 1, 2, 3, 0, 1, 2, 3, 0, 1, 2, 3]\n",
      "\n",
      "\n"
     ]
    }
   ],
   "source": [
    "#\n",
    "ints_01=[0, 1, 2, 3]; print(\"ints_01:\"); print(ints_01)\n",
    "ints_02=[3, 2, 1, 0]; print(\"ints_02:\"); print(ints_02)\n",
    "#Concatenation\n",
    "print(\"ints_01+ints_02:\"); print(ints_01+ints_02)\n",
    "#x Concatenation\n",
    "print(\"ints_01 * 3\");      print(ints_01 * 3)\n",
    "#....................................\n",
    "print(\"\\n\")"
   ]
  },
  {
   "cell_type": "code",
   "execution_count": 19,
   "id": "180ea985-1256-4c5c-828f-2f78317d116d",
   "metadata": {},
   "outputs": [
    {
     "name": "stdout",
     "output_type": "stream",
     "text": [
      "5 10\n"
     ]
    }
   ],
   "source": [
    "#unpacking\n",
    "t = 5, 10\n",
    "x, y = t\n",
    "print(x, y)"
   ]
  },
  {
   "cell_type": "code",
   "execution_count": 24,
   "id": "57f7d020-d30b-4146-904e-7f1232d26bb7",
   "metadata": {},
   "outputs": [
    {
     "name": "stdout",
     "output_type": "stream",
     "text": [
      "1 2 [3, 4, 5, 6, 7, 8, 9]\n",
      "1 2 [3, 4, 5, 6, 7, 8] 9\n",
      "1 2 3 [4, 5, 6, 7, 8] 9\n"
     ]
    }
   ],
   "source": [
    "#unpacking\n",
    "numbers=[1,2,3,4,5,6,7,8,9]\n",
    "a,b,*c=numbers\n",
    "print(a,b,c)\n",
    "a,b,*c,d=numbers\n",
    "print(a,b,c,d)\n",
    "a,b,c,*d,e=numbers\n",
    "print(a,b,c,d,e)"
   ]
  },
  {
   "cell_type": "code",
   "execution_count": 3,
   "id": "89e6956b-2a1d-4492-acdd-c0a88aca380f",
   "metadata": {},
   "outputs": [
    {
     "name": "stdout",
     "output_type": "stream",
     "text": [
      "[4, 1, 2, 3]\n",
      "[1, 2, 3, 4]\n",
      "[1, 2, 3, 4]\n",
      "[1, 2, 2, 2, 2, 3, 3, 3, 3, 3]\n",
      "[3, 3, 3, 3, 3, 2, 2, 2, 2, 1]\n",
      "[(9, 1), (0, 2), (4, 2), (6, 2), (7, 2), (1, 3), (2, 3), (3, 3), (5, 3), (8, 3)]\n",
      "[(1, 3), (2, 3), (3, 3), (5, 3), (8, 3), (0, 2), (4, 2), (6, 2), (7, 2), (9, 1)]\n"
     ]
    }
   ],
   "source": [
    "x = [4, 1, 2, 3] ;print(x)\n",
    "y = sorted(x)    ;print(y) # y is [1, 2, 3, 4], x is unchanged\n",
    "x.sort()         ;print(x) # now x is [1, 2, 3, 4]\n",
    "\n",
    "# order\n",
    "num_friends = [2,3,3,3,2,3,2,2,3,1]\n",
    "num_friends.sort(); print(num_friends)\n",
    "num_friends.sort(reverse=True); print(num_friends)\n",
    "\n",
    "# col0 = id , col1 = num_friends\n",
    "num_friends = [(0, 2), (1, 3), (2, 3), (3, 3), (4, 2), (5, 3), (6, 2), (7, 2), (8, 3), (9, 1)]\n",
    "# initially ordered by col0(id). But now we want to oder by col1 (num_friends) desc\n",
    "num_friends.sort(key=lambda x: x[1])                                 ; print(num_friends)\n",
    "num_friends.sort(key=lambda x: x[1], reverse=True)                   ; print(num_friends)"
   ]
  },
  {
   "cell_type": "code",
   "execution_count": 5,
   "id": "785e49d2-7fa6-4407-bb6e-829acb9996da",
   "metadata": {},
   "outputs": [
    {
     "name": "stdout",
     "output_type": "stream",
     "text": [
      "[-4, 1, -2, 3]\n",
      "[-4, 3, -2, 1]\n"
     ]
    }
   ],
   "source": [
    "x = [-4, 1, -2, 3]; print(x)\n",
    "# sort the list by absolute value from largest to smallest\n",
    "x = sorted(x, key=abs, reverse=True)  ; print(x)  # is [-4, 3, -2, 1]"
   ]
  },
  {
   "cell_type": "code",
   "execution_count": null,
   "id": "fd3f9e5e-15fe-4784-a34f-0b4f50866d3d",
   "metadata": {},
   "outputs": [],
   "source": []
  }
 ],
 "metadata": {
  "kernelspec": {
   "display_name": "Python [conda env:base] *",
   "language": "python",
   "name": "conda-base-py"
  },
  "language_info": {
   "codemirror_mode": {
    "name": "ipython",
    "version": 3
   },
   "file_extension": ".py",
   "mimetype": "text/x-python",
   "name": "python",
   "nbconvert_exporter": "python",
   "pygments_lexer": "ipython3",
   "version": "3.12.7"
  }
 },
 "nbformat": 4,
 "nbformat_minor": 5
}
