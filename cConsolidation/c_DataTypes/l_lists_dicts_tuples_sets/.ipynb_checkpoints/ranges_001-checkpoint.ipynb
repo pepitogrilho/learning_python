{
 "cells": [
  {
   "cell_type": "code",
   "execution_count": 24,
   "id": "d06fe7e8-cd63-47ee-95cc-62fbf6af5c94",
   "metadata": {},
   "outputs": [
    {
     "data": {
      "text/plain": [
       "[0, 1, 2, 3, 4]"
      ]
     },
     "execution_count": 24,
     "metadata": {},
     "output_type": "execute_result"
    }
   ],
   "source": [
    "range(5)\n",
    "list(range(5))"
   ]
  },
  {
   "cell_type": "code",
   "execution_count": 35,
   "id": "cbe0b3a8-da0e-4b48-b0eb-150084031b73",
   "metadata": {},
   "outputs": [
    {
     "name": "stdout",
     "output_type": "stream",
     "text": [
      "[0, 1, 2, 3, 4]\n",
      "[1, 2, 3, 4]\n",
      "[1, 2, 3, 4, 5]\n",
      "[1, 2, 3, 4, 5]\n"
     ]
    }
   ],
   "source": [
    "print(list(range(0,5)))\n",
    "print(list(range(1,5)))\n",
    "print(list(range(1,6)))\n",
    "print(list(range(1,6)))"
   ]
  },
  {
   "cell_type": "code",
   "execution_count": 17,
   "id": "19026866-88ed-4666-9d6d-60315a9b1059",
   "metadata": {},
   "outputs": [
    {
     "name": "stdout",
     "output_type": "stream",
     "text": [
      "range(0, 0)<class 'range'>\n",
      "range(0, 1)\n",
      "range(0, 2)\n",
      "range(0, 3)\n",
      "range(0, 4)\n",
      "\n",
      "loop r04 v1:\n",
      "0123\n",
      "\n",
      "loop r04 v2:\n",
      "0123\n",
      "\n",
      "loop r04 v3:\n",
      "0\n",
      "1\n",
      "2\n",
      "3\n",
      "\n",
      "loop r04 v4:\n",
      "0\n",
      "1\n",
      "2\n",
      "3\n",
      "\n"
     ]
    }
   ],
   "source": [
    "#range object\n",
    "r00= range(0); print(r00, end=''); print(type(r00))\n",
    "r01= range(1); print(r01)\n",
    "r02= range(2); print(r02)\n",
    "r03= range(3); print(r03)\n",
    "r04= range(4); print(r04)\n",
    "print(f\"\\nloop r04 v1:\")\n",
    "for i in r04:\n",
    "    print(i,end=\"\")\n",
    "print(f\"\\n\\nloop r04 v2:\")\n",
    "for i in r04: print(i,end=\"\")\n",
    "print(f\"\\n\\nloop r04 v3:\")\n",
    "[print(i) for i in r04]; print()\n",
    "print(f\"loop r04 v4:\")\n",
    "[print(i) for i in r04]; print()"
   ]
  },
  {
   "cell_type": "code",
   "execution_count": 18,
   "id": "e46ba972-e052-41a6-8f07-6057681ca35b",
   "metadata": {},
   "outputs": [
    {
     "name": "stdout",
     "output_type": "stream",
     "text": [
      "[]<class 'list'>\n",
      "[0]\n",
      "[0, 1]\n",
      "[0, 1, 2]\n",
      "[0, 1, 2, 3]\n",
      "\n",
      "\n"
     ]
    }
   ],
   "source": [
    "#list from range\n",
    "l00=list(r00); print(l00, end=''); print(type(l00))\n",
    "l01=list(r01); print(l01)\n",
    "l02=list(r02); print(l02)\n",
    "l03=list(r03); print(l03)\n",
    "l04=list(r04); print(l04)                     \n",
    "print(\"\\n\")"
   ]
  },
  {
   "cell_type": "code",
   "execution_count": 19,
   "id": "5e3404a0-c845-4f3b-985b-b46dbd3616df",
   "metadata": {},
   "outputs": [
    {
     "name": "stdout",
     "output_type": "stream",
     "text": [
      "[0, 1, 2, 3, 4, 5, 6, 7, 8, 9]\n",
      "[0, 1, 2, 3, 4, 5, 6, 7, 8, 9]\n",
      "True\n",
      "[1, 2, 3, 4, 5, 6, 7, 8, 9]\n",
      "[5, 6, 7, 8, 9]\n",
      "\n",
      "\n"
     ]
    }
   ],
   "source": [
    "#list/array with range from begining to end .............\n",
    "print(list(range(10)))\n",
    "print(list(range(0,10)))\n",
    "print(range(10)==range(0,10))\n",
    "print(list(range(1,10)))\n",
    "print(list(range(5,10)))\n",
    "print(\"\\n\")"
   ]
  },
  {
   "cell_type": "code",
   "execution_count": 20,
   "id": "d163eeb0-624d-4c11-9765-d907bbd35d96",
   "metadata": {},
   "outputs": [
    {
     "name": "stdout",
     "output_type": "stream",
     "text": [
      "[0, 1, 2, 3, 4, 5, 6, 7, 8, 9]\n",
      "[0, 1, 2, 3, 4, 5, 6, 7, 8, 9]\n",
      "[0, 1, 2, 3, 4, 5, 6, 7, 8, 9]\n",
      "[0, 2, 4, 6, 8]\n",
      "[0, 3, 6, 9]\n",
      "[0, 4, 8]\n",
      "[0, 5]\n",
      "[0, 6]\n",
      "[0, 7]\n",
      "[0, 8]\n",
      "[0, 9]\n",
      "[0]\n"
     ]
    }
   ],
   "source": [
    "#list/array with range from begining to end with INTERVAL .............\n",
    "print(list(range(10)))\n",
    "print(list(range(0,10)))\n",
    "print(list(range(0,10,1)))\n",
    "print(list(range(0,10,2)))\n",
    "print(list(range(0,10,3)))\n",
    "print(list(range(0,10,4)))\n",
    "print(list(range(0,10,5)))\n",
    "print(list(range(0,10,6)))\n",
    "print(list(range(0,10,7)))\n",
    "print(list(range(0,10,8)))\n",
    "print(list(range(0,10,9)))\n",
    "print(list(range(0,10,10)))"
   ]
  }
 ],
 "metadata": {
  "kernelspec": {
   "display_name": "Python [conda env:base] *",
   "language": "python",
   "name": "conda-base-py"
  },
  "language_info": {
   "codemirror_mode": {
    "name": "ipython",
    "version": 3
   },
   "file_extension": ".py",
   "mimetype": "text/x-python",
   "name": "python",
   "nbconvert_exporter": "python",
   "pygments_lexer": "ipython3",
   "version": "3.12.7"
  }
 },
 "nbformat": 4,
 "nbformat_minor": 5
}
