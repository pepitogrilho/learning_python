{
 "cells": [
  {
   "cell_type": "code",
   "execution_count": 14,
   "id": "decacc80-fc70-475f-bfba-f5d785bd312c",
   "metadata": {},
   "outputs": [
    {
     "name": "stdout",
     "output_type": "stream",
     "text": [
      "ages.items()=dict_items([('Dave', 24), ('Mary', 42), ('John', 58)])\n",
      "ages.keys()=dict_keys(['Dave', 'Mary', 'John'])\n",
      "ages.values()=dict_values([24, 42, 58])\n",
      "Dave is 24 years old\n",
      "Mary is 42 years old\n",
      "John is 58 years old\n",
      "Dave is 24 years old\n",
      "Mary is 42 years old\n",
      "John is 58 years old\n",
      "Some guy is 24 years old\n",
      "Some guy is 42 years old\n",
      "Some guy is 58 years old\n",
      "Dave_age=24\n",
      "Dave_age=24\n",
      "Pepe_age=None\n",
      "Pepe_age=99\n"
     ]
    }
   ],
   "source": [
    "ages={}     #empty dict, more pythonic\n",
    "ages=dict() #empty dict, less pythonic\n",
    "ages['Dave']=24                   #1st item\n",
    "ages['Mary']=42; ages['John']=58  #append further elements\n",
    "print(f\"ages.items()={ages.items()}\")\n",
    "print(f\"ages.keys()={ages.keys()}\")\n",
    "print(f\"ages.values()={ages.values()}\")\n",
    "\n",
    "ages={\"Dave\":24, \"Mary\":42, \"John\":58}\n",
    "\n",
    "for guy in ages:              print(f\"{guy} is {ages[guy]} years old\")\n",
    "for guy, age in ages.items(): print(f\"{guy} is {age} years old\")\n",
    "for age in ages.values():     print(f\"Some guy is {age} years old\")\n",
    "\n",
    "Dave_age = ages['Dave']     ;print(f\"Dave_age={Dave_age}\")\n",
    "Dave_age = ages.get('Dave') ;print(f\"Dave_age={Dave_age}\")\n",
    "Pepe_age = ages.get('Pepe') ;print(f\"Pepe_age={Pepe_age}\")\n",
    "Pepe_age = ages.get('Pepe',99) ;print(f\"Pepe_age={Pepe_age}\")"
   ]
  },
  {
   "cell_type": "code",
   "execution_count": 9,
   "id": "9d3679fd-48da-4b3a-ae75-5eebbde31265",
   "metadata": {},
   "outputs": [
    {
     "name": "stdout",
     "output_type": "stream",
     "text": [
      "Dave is 24 years old\n",
      "Dave is 25 years old\n"
     ]
    }
   ],
   "source": [
    "guy='Dave'\n",
    "print(f\"{guy} is {ages[guy]} years old\")\n",
    "ages[guy] += 1\n",
    "print(f\"{guy} is {ages[guy]} years old\")"
   ]
  },
  {
   "cell_type": "code",
   "execution_count": 6,
   "id": "002c24b9-c2b6-411d-b82b-652b935f5de5",
   "metadata": {},
   "outputs": [
    {
     "name": "stdout",
     "output_type": "stream",
     "text": [
      "{'id': 0, 'name': 'Hero', 'age': 24}\n",
      "{'id': 1, 'name': 'Dunn', 'age': 30}\n",
      "{'id': 2, 'name': 'Sue', 'age': 27}\n",
      "El usuario con id 0 tiene nombre Hero, y 24 años\n",
      "El usuario con id 1 tiene nombre Dunn, y 30 años\n",
      "El usuario con id 2 tiene nombre Sue, y 27 años\n"
     ]
    }
   ],
   "source": [
    "users = [\n",
    "    {\"id\": 0, \"name\": \"Hero\", \"age\": 24},\n",
    "    {\"id\": 1, \"name\": \"Dunn\", \"age\": 30},\n",
    "    {\"id\": 2, \"name\": \"Sue\",  \"age\": 27}\n",
    "    ]\n",
    "for user in users: print(user)\n",
    "for user in users: print(f\"El usuario con id {user['id']} tiene nombre {user['name']}, y {user['age']} años\")"
   ]
  },
  {
   "cell_type": "code",
   "execution_count": 17,
   "id": "6bcd119c-6b57-4546-bf08-a9845e2a4ea4",
   "metadata": {},
   "outputs": [
    {
     "name": "stdout",
     "output_type": "stream",
     "text": [
      "0\n",
      "1\n",
      "2\n"
     ]
    }
   ],
   "source": []
  },
  {
   "cell_type": "code",
   "execution_count": null,
   "id": "7e2a1f2c-5ff4-4b0f-a56f-cb09a04284f2",
   "metadata": {},
   "outputs": [],
   "source": []
  }
 ],
 "metadata": {
  "kernelspec": {
   "display_name": "Python [conda env:base] *",
   "language": "python",
   "name": "conda-base-py"
  },
  "language_info": {
   "codemirror_mode": {
    "name": "ipython",
    "version": 3
   },
   "file_extension": ".py",
   "mimetype": "text/x-python",
   "name": "python",
   "nbconvert_exporter": "python",
   "pygments_lexer": "ipython3",
   "version": "3.12.7"
  }
 },
 "nbformat": 4,
 "nbformat_minor": 5
}
