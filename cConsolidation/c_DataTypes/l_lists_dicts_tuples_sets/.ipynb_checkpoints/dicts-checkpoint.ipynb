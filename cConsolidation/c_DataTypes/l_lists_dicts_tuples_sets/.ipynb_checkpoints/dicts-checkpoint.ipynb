{
 "cells": [
  {
   "cell_type": "code",
   "execution_count": 1,
   "id": "decacc80-fc70-475f-bfba-f5d785bd312c",
   "metadata": {},
   "outputs": [],
   "source": [
    "ages={\"Dave\":24, \"Mary\":42, \"John\":58}"
   ]
  },
  {
   "cell_type": "code",
   "execution_count": 2,
   "id": "05cc69db-cbbc-48bf-8d5e-2c26d0e98bba",
   "metadata": {},
   "outputs": [
    {
     "name": "stdout",
     "output_type": "stream",
     "text": [
      "Dave is 24 years old\n",
      "Mary is 42 years old\n",
      "John is 58 years old\n"
     ]
    }
   ],
   "source": [
    "for guy in ages:\n",
    "    print(f\"{guy} is {ages[guy]} years old\")"
   ]
  },
  {
   "cell_type": "code",
   "execution_count": 4,
   "id": "e81e7189-2fd1-4f22-b5a6-10902fd9739b",
   "metadata": {},
   "outputs": [
    {
     "name": "stdout",
     "output_type": "stream",
     "text": [
      "Dave is 24 years old\n",
      "Mary is 42 years old\n",
      "John is 58 years old\n"
     ]
    }
   ],
   "source": [
    "for guy, age in ages.items():\n",
    "    print(f\"{guy} is {age} years old\")"
   ]
  },
  {
   "cell_type": "code",
   "execution_count": 5,
   "id": "c2c3992b-6e47-4c69-8d9f-a53e6580cc78",
   "metadata": {},
   "outputs": [
    {
     "name": "stdout",
     "output_type": "stream",
     "text": [
      "Some guy is 24 years old\n",
      "Some guy is 42 years old\n",
      "Some guy is 58 years old\n"
     ]
    }
   ],
   "source": [
    "for age in ages.values():\n",
    "    print(f\"Some guy is {age} years old\")"
   ]
  },
  {
   "cell_type": "code",
   "execution_count": 9,
   "id": "9d3679fd-48da-4b3a-ae75-5eebbde31265",
   "metadata": {},
   "outputs": [
    {
     "name": "stdout",
     "output_type": "stream",
     "text": [
      "Dave is 24 years old\n",
      "Dave is 25 years old\n"
     ]
    }
   ],
   "source": [
    "guy='Dave'\n",
    "print(f\"{guy} is {ages[guy]} years old\")\n",
    "ages[guy] += 1\n",
    "print(f\"{guy} is {ages[guy]} years old\")"
   ]
  },
  {
   "cell_type": "code",
   "execution_count": 10,
   "id": "002c24b9-c2b6-411d-b82b-652b935f5de5",
   "metadata": {},
   "outputs": [],
   "source": [
    "users = [\n",
    "    {\"id\": 0, \"name\": \"Hero\", \"age\": 24},\n",
    "    {\"id\": 1, \"name\": \"Dunn\", \"age\": 30},\n",
    "    {\"id\": 2, \"name\": \"Sue\",  \"age\": 27}\n",
    "    ]"
   ]
  },
  {
   "cell_type": "code",
   "execution_count": 13,
   "id": "e22a22d7-d2a9-413d-9e49-8b1b992f28f2",
   "metadata": {},
   "outputs": [
    {
     "name": "stdout",
     "output_type": "stream",
     "text": [
      "{'id': 0, 'name': 'Hero', 'age': 24}\n",
      "{'id': 1, 'name': 'Dunn', 'age': 30}\n",
      "{'id': 2, 'name': 'Sue', 'age': 27}\n"
     ]
    }
   ],
   "source": [
    "for user in users:\n",
    "    print(user)"
   ]
  },
  {
   "cell_type": "code",
   "execution_count": 16,
   "id": "552e6c31-c3a7-49f7-b7c5-c0f4c70a0c31",
   "metadata": {},
   "outputs": [
    {
     "name": "stdout",
     "output_type": "stream",
     "text": [
      "El usuario con id 0 tiene nombre Hero, y 24 años\n",
      "El usuario con id 1 tiene nombre Dunn, y 30 años\n",
      "El usuario con id 2 tiene nombre Sue, y 27 años\n"
     ]
    }
   ],
   "source": [
    "for user in users:\n",
    "    print(f\"El usuario con id {user['id']} tiene nombre {user['name']}, y {user['age']} años\")"
   ]
  },
  {
   "cell_type": "code",
   "execution_count": 17,
   "id": "6bcd119c-6b57-4546-bf08-a9845e2a4ea4",
   "metadata": {},
   "outputs": [
    {
     "name": "stdout",
     "output_type": "stream",
     "text": [
      "0\n",
      "1\n",
      "2\n"
     ]
    }
   ],
   "source": [
    "for user in users:\n",
    "    print(f\"{user['id']}\")"
   ]
  },
  {
   "cell_type": "code",
   "execution_count": null,
   "id": "7e2a1f2c-5ff4-4b0f-a56f-cb09a04284f2",
   "metadata": {},
   "outputs": [],
   "source": []
  }
 ],
 "metadata": {
  "kernelspec": {
   "display_name": "Python [conda env:base] *",
   "language": "python",
   "name": "conda-base-py"
  },
  "language_info": {
   "codemirror_mode": {
    "name": "ipython",
    "version": 3
   },
   "file_extension": ".py",
   "mimetype": "text/x-python",
   "name": "python",
   "nbconvert_exporter": "python",
   "pygments_lexer": "ipython3",
   "version": "3.12.7"
  }
 },
 "nbformat": 4,
 "nbformat_minor": 5
}
