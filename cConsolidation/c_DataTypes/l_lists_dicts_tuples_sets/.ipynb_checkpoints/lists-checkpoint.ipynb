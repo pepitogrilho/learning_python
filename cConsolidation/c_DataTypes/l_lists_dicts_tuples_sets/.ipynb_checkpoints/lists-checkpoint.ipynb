{
 "cells": [
  {
   "cell_type": "code",
   "execution_count": 8,
   "id": "1658fb92-a939-4ff0-b9f4-ae44e9247bc6",
   "metadata": {},
   "outputs": [],
   "source": [
    "ints=[10, 11, 12, 13]"
   ]
  },
  {
   "cell_type": "code",
   "execution_count": 6,
   "id": "d8eaedbc-9839-47d1-80d6-1ed0a204dcf9",
   "metadata": {},
   "outputs": [
    {
     "name": "stdout",
     "output_type": "stream",
     "text": [
      "10\n",
      "11\n",
      "12\n",
      "13\n"
     ]
    }
   ],
   "source": [
    "for i in ints:\n",
    "    print(i)"
   ]
  },
  {
   "cell_type": "code",
   "execution_count": 10,
   "id": "0ebb7aed-9fe6-4fd5-933a-fea739f06596",
   "metadata": {},
   "outputs": [
    {
     "data": {
      "text/plain": [
       "range(0, 4)"
      ]
     },
     "execution_count": 10,
     "metadata": {},
     "output_type": "execute_result"
    }
   ],
   "source": [
    "range(len(ints))"
   ]
  },
  {
   "cell_type": "code",
   "execution_count": 12,
   "id": "8645bfb9-086a-458c-b497-a19147761b7b",
   "metadata": {},
   "outputs": [
    {
     "name": "stdout",
     "output_type": "stream",
     "text": [
      "10\n",
      "11\n",
      "12\n",
      "13\n"
     ]
    }
   ],
   "source": [
    "for i in range(len(ints)):\n",
    "    print(ints[i])"
   ]
  },
  {
   "cell_type": "code",
   "execution_count": 13,
   "id": "36962be6-9a4b-44a4-8223-53449e5bc7ef",
   "metadata": {},
   "outputs": [],
   "source": [
    "ints.append(14)"
   ]
  },
  {
   "cell_type": "code",
   "execution_count": 14,
   "id": "2c393bf6-1285-41ef-be15-927c7fdc2907",
   "metadata": {},
   "outputs": [
    {
     "data": {
      "text/plain": [
       "[10, 11, 12, 13, 14]"
      ]
     },
     "execution_count": 14,
     "metadata": {},
     "output_type": "execute_result"
    }
   ],
   "source": [
    "ints"
   ]
  },
  {
   "cell_type": "code",
   "execution_count": 15,
   "id": "ee452d54-d711-43ef-b5e1-6ca414d6f5bf",
   "metadata": {},
   "outputs": [],
   "source": [
    "m=[\n",
    "    [1,2,3],\n",
    "    [4,5,6],\n",
    "    [7,8,9]\n",
    "]"
   ]
  },
  {
   "cell_type": "code",
   "execution_count": 22,
   "id": "237c2c24-31dc-41e7-82a1-3838546e0f0a",
   "metadata": {},
   "outputs": [
    {
     "name": "stdout",
     "output_type": "stream",
     "text": [
      "[1, 2, 3] 3\n",
      "[4, 5, 6] 3\n",
      "[7, 8, 9] 3\n"
     ]
    }
   ],
   "source": [
    "for i in range(len(m)):\n",
    "    print(m[i],len(m[i]))"
   ]
  },
  {
   "cell_type": "code",
   "execution_count": 30,
   "id": "7bbc4a30-9255-4c5d-b8a3-108a666f1c38",
   "metadata": {},
   "outputs": [
    {
     "name": "stdout",
     "output_type": "stream",
     "text": [
      "[1, 2, 3]123\n",
      "[4, 5, 6]456\n",
      "[7, 8, 9]789\n"
     ]
    }
   ],
   "source": [
    "for i in range(len(m)):\n",
    "    print(m[i], end=\"\")\n",
    "    for j in range(len(m[i])):\n",
    "        print(m[i][j], end=\"\")\n",
    "    print()"
   ]
  },
  {
   "cell_type": "code",
   "execution_count": 24,
   "id": "c0fda7c9-1cbb-4b2c-b273-dbf4448ab4b4",
   "metadata": {},
   "outputs": [
    {
     "data": {
      "text/plain": [
       "[1, 2, 3]"
      ]
     },
     "execution_count": 24,
     "metadata": {},
     "output_type": "execute_result"
    }
   ],
   "source": [
    "m[0]"
   ]
  },
  {
   "cell_type": "code",
   "execution_count": 25,
   "id": "de028879-d794-4206-9443-d59feb381850",
   "metadata": {},
   "outputs": [
    {
     "data": {
      "text/plain": [
       "1"
      ]
     },
     "execution_count": 25,
     "metadata": {},
     "output_type": "execute_result"
    }
   ],
   "source": [
    "m[0][0]"
   ]
  },
  {
   "cell_type": "code",
   "execution_count": 31,
   "id": "b4be4a7b-fe37-4bd9-b7df-1edb13e23c31",
   "metadata": {},
   "outputs": [
    {
     "name": "stdout",
     "output_type": "stream",
     "text": [
      "ints_01:[0]\n",
      "ints_01:[0, 1]\n",
      "ints_01:[0, 1, 2]\n",
      "ints_01:[0, 1]\n",
      "ints_01:[0]\n"
     ]
    }
   ],
   "source": [
    "#methods: append(x), pop() ...............\n",
    "ints_01=[0];        print(\"ints_01:\",end=\"\"); print(ints_01)\n",
    "ints_01.append(1);  print(\"ints_01:\",end=\"\"); print(ints_01)\n",
    "ints_01.append(2);  print(\"ints_01:\",end=\"\"); print(ints_01)\n",
    "ints_01.pop();      print(\"ints_01:\",end=\"\"); print(ints_01)\n",
    "ints_01.pop();      print(\"ints_01:\",end=\"\"); print(ints_01)"
   ]
  },
  {
   "cell_type": "code",
   "execution_count": 32,
   "id": "ba0b3c02-df60-41aa-b7eb-1cec76fe938c",
   "metadata": {},
   "outputs": [
    {
     "name": "stdout",
     "output_type": "stream",
     "text": [
      "\"INSERT\" is a method similar to \"append\"\n",
      "ints_02=[1, 3]\n",
      "ints_02.insert(1,2)...[1, 2, 3]\n",
      "ints_02.insert(0,0)...[0, 1, 2, 3]\n",
      "\n",
      "\n"
     ]
    }
   ],
   "source": [
    "#list/array : methods : \"INSERT\" ...............\n",
    "print(\"\\\"INSERT\\\" is a method similar to \\\"append\\\"\")\n",
    "ints_02=[1,3];       print(\"ints_02=\"+str(ints_02))\n",
    "ints_02.insert(1,2); print(\"ints_02.insert(1,2)...\"+str(ints_02))\n",
    "ints_02.insert(0,0); print(\"ints_02.insert(0,0)...\"+str(ints_02))\n",
    "print(\"\\n\")"
   ]
  },
  {
   "cell_type": "code",
   "execution_count": null,
   "id": "e895aafa-dc16-4c3c-be2a-d1afed1a9050",
   "metadata": {},
   "outputs": [],
   "source": []
  }
 ],
 "metadata": {
  "kernelspec": {
   "display_name": "Python [conda env:base] *",
   "language": "python",
   "name": "conda-base-py"
  },
  "language_info": {
   "codemirror_mode": {
    "name": "ipython",
    "version": 3
   },
   "file_extension": ".py",
   "mimetype": "text/x-python",
   "name": "python",
   "nbconvert_exporter": "python",
   "pygments_lexer": "ipython3",
   "version": "3.12.7"
  }
 },
 "nbformat": 4,
 "nbformat_minor": 5
}
