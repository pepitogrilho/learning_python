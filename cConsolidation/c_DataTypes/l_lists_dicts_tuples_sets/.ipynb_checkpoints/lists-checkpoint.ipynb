{
 "cells": [
  {
   "cell_type": "code",
   "execution_count": 1,
   "id": "1658fb92-a939-4ff0-b9f4-ae44e9247bc6",
   "metadata": {},
   "outputs": [],
   "source": [
    "ints=[10, 11, 12, 13]"
   ]
  },
  {
   "cell_type": "code",
   "execution_count": 2,
   "id": "d8eaedbc-9839-47d1-80d6-1ed0a204dcf9",
   "metadata": {},
   "outputs": [
    {
     "name": "stdout",
     "output_type": "stream",
     "text": [
      "10\n",
      "11\n",
      "12\n",
      "13\n"
     ]
    }
   ],
   "source": [
    "for i in ints:\n",
    "    print(i)"
   ]
  },
  {
   "cell_type": "code",
   "execution_count": 3,
   "id": "0ebb7aed-9fe6-4fd5-933a-fea739f06596",
   "metadata": {},
   "outputs": [
    {
     "data": {
      "text/plain": [
       "range(0, 4)"
      ]
     },
     "execution_count": 3,
     "metadata": {},
     "output_type": "execute_result"
    }
   ],
   "source": [
    "range(len(ints))"
   ]
  },
  {
   "cell_type": "code",
   "execution_count": 4,
   "id": "8645bfb9-086a-458c-b497-a19147761b7b",
   "metadata": {},
   "outputs": [
    {
     "name": "stdout",
     "output_type": "stream",
     "text": [
      "10\n",
      "11\n",
      "12\n",
      "13\n"
     ]
    }
   ],
   "source": [
    "for i in range(len(ints)):\n",
    "    print(ints[i])"
   ]
  },
  {
   "cell_type": "code",
   "execution_count": 5,
   "id": "36962be6-9a4b-44a4-8223-53449e5bc7ef",
   "metadata": {},
   "outputs": [],
   "source": [
    "ints.append(14)"
   ]
  },
  {
   "cell_type": "code",
   "execution_count": 6,
   "id": "2c393bf6-1285-41ef-be15-927c7fdc2907",
   "metadata": {},
   "outputs": [
    {
     "data": {
      "text/plain": [
       "[10, 11, 12, 13, 14]"
      ]
     },
     "execution_count": 6,
     "metadata": {},
     "output_type": "execute_result"
    }
   ],
   "source": [
    "ints"
   ]
  },
  {
   "cell_type": "code",
   "execution_count": 7,
   "id": "ee452d54-d711-43ef-b5e1-6ca414d6f5bf",
   "metadata": {},
   "outputs": [],
   "source": [
    "m=[\n",
    "    [1,2,3],\n",
    "    [4,5,6],\n",
    "    [7,8,9]\n",
    "]"
   ]
  },
  {
   "cell_type": "code",
   "execution_count": 8,
   "id": "237c2c24-31dc-41e7-82a1-3838546e0f0a",
   "metadata": {},
   "outputs": [
    {
     "name": "stdout",
     "output_type": "stream",
     "text": [
      "[1, 2, 3] 3\n",
      "[4, 5, 6] 3\n",
      "[7, 8, 9] 3\n"
     ]
    }
   ],
   "source": [
    "for i in range(len(m)):\n",
    "    print(m[i],len(m[i]))"
   ]
  },
  {
   "cell_type": "code",
   "execution_count": 9,
   "id": "7bbc4a30-9255-4c5d-b8a3-108a666f1c38",
   "metadata": {},
   "outputs": [
    {
     "name": "stdout",
     "output_type": "stream",
     "text": [
      "[1, 2, 3]123\n",
      "[4, 5, 6]456\n",
      "[7, 8, 9]789\n"
     ]
    }
   ],
   "source": [
    "for i in range(len(m)):\n",
    "    print(m[i], end=\"\")\n",
    "    for j in range(len(m[i])):\n",
    "        print(m[i][j], end=\"\")\n",
    "    print()"
   ]
  },
  {
   "cell_type": "code",
   "execution_count": 10,
   "id": "c0fda7c9-1cbb-4b2c-b273-dbf4448ab4b4",
   "metadata": {},
   "outputs": [
    {
     "data": {
      "text/plain": [
       "[1, 2, 3]"
      ]
     },
     "execution_count": 10,
     "metadata": {},
     "output_type": "execute_result"
    }
   ],
   "source": [
    "m[0]"
   ]
  },
  {
   "cell_type": "code",
   "execution_count": 11,
   "id": "de028879-d794-4206-9443-d59feb381850",
   "metadata": {},
   "outputs": [
    {
     "data": {
      "text/plain": [
       "1"
      ]
     },
     "execution_count": 11,
     "metadata": {},
     "output_type": "execute_result"
    }
   ],
   "source": [
    "m[0][0]"
   ]
  },
  {
   "cell_type": "code",
   "execution_count": 12,
   "id": "b4be4a7b-fe37-4bd9-b7df-1edb13e23c31",
   "metadata": {},
   "outputs": [
    {
     "name": "stdout",
     "output_type": "stream",
     "text": [
      "ints_01:[0]\n",
      "ints_01:[0, 1]\n",
      "ints_01:[0, 1, 2]\n",
      "ints_01:[0, 1]\n",
      "ints_01:[0]\n"
     ]
    }
   ],
   "source": [
    "#methods: append(x), pop() ...............\n",
    "ints_01=[0];        print(\"ints_01:\",end=\"\"); print(ints_01)\n",
    "ints_01.append(1);  print(\"ints_01:\",end=\"\"); print(ints_01)\n",
    "ints_01.append(2);  print(\"ints_01:\",end=\"\"); print(ints_01)\n",
    "ints_01.pop();      print(\"ints_01:\",end=\"\"); print(ints_01)\n",
    "ints_01.pop();      print(\"ints_01:\",end=\"\"); print(ints_01)"
   ]
  },
  {
   "cell_type": "code",
   "execution_count": 13,
   "id": "ba0b3c02-df60-41aa-b7eb-1cec76fe938c",
   "metadata": {},
   "outputs": [
    {
     "name": "stdout",
     "output_type": "stream",
     "text": [
      "\"INSERT\" is a method similar to \"append\"\n",
      "ints_02=[1, 3]\n",
      "ints_02.insert(1,2)...[1, 2, 3]\n",
      "ints_02.insert(0,0)...[0, 1, 2, 3]\n",
      "\n",
      "\n"
     ]
    }
   ],
   "source": [
    "#list/array : methods : \"INSERT\" ...............\n",
    "print(\"\\\"INSERT\\\" is a method similar to \\\"append\\\"\")\n",
    "ints_02=[1,3];       print(\"ints_02=\"+str(ints_02))\n",
    "ints_02.insert(1,2); print(\"ints_02.insert(1,2)...\"+str(ints_02))\n",
    "ints_02.insert(0,0); print(\"ints_02.insert(0,0)...\"+str(ints_02))\n",
    "print(\"\\n\")"
   ]
  },
  {
   "cell_type": "code",
   "execution_count": 14,
   "id": "e895aafa-dc16-4c3c-be2a-d1afed1a9050",
   "metadata": {},
   "outputs": [
    {
     "name": "stdout",
     "output_type": "stream",
     "text": [
      "2\n",
      "0\n"
     ]
    }
   ],
   "source": [
    "#method : index(X)\n",
    "letters = ['p', 'q', 'r', 's', 'p', 'u']\n",
    "print(letters.index('r'))\n",
    "print(letters.index('p'))"
   ]
  },
  {
   "cell_type": "code",
   "execution_count": 15,
   "id": "758af863-eb13-471d-b1bc-3c4078d1b26e",
   "metadata": {},
   "outputs": [
    {
     "name": "stdout",
     "output_type": "stream",
     "text": [
      "p\n",
      "u\n",
      "2\n",
      "1\n"
     ]
    }
   ],
   "source": [
    "#methods: min, max, count\n",
    "print(min(letters))\n",
    "print(max(letters))\n",
    "print(letters.count('p'))\n",
    "print(letters.count('q'))"
   ]
  },
  {
   "cell_type": "code",
   "execution_count": 16,
   "id": "a85fc244-e0cb-42af-b04c-a80f9f4269e6",
   "metadata": {},
   "outputs": [
    {
     "name": "stdout",
     "output_type": "stream",
     "text": [
      "len(letters):\n",
      "6\n"
     ]
    }
   ],
   "source": [
    "#len = length?\n",
    "print(\"len(letters):\"); print(len(letters))"
   ]
  },
  {
   "cell_type": "code",
   "execution_count": 17,
   "id": "37f79d4b-8400-405f-bd20-9291d63acc5a",
   "metadata": {},
   "outputs": [
    {
     "name": "stdout",
     "output_type": "stream",
     "text": [
      "['u', 'p', 's', 'r', 'q', 'p']\n",
      "['u', 'p', 'r', 'q', 'p']\n"
     ]
    }
   ],
   "source": [
    "#list/array : more methods ....................\n",
    "letters.reverse()\n",
    "print(letters)\n",
    "letters.remove('s')\n",
    "print(letters)"
   ]
  },
  {
   "cell_type": "code",
   "execution_count": 18,
   "id": "35f21e5a-80c6-45d8-a9e6-4c07e2e8007b",
   "metadata": {},
   "outputs": [
    {
     "name": "stdout",
     "output_type": "stream",
     "text": [
      "ints_01:\n",
      "[0, 1, 2, 3]\n",
      "ints_02:\n",
      "[3, 2, 1, 0]\n",
      "ints_01+ints_02:\n",
      "[0, 1, 2, 3, 3, 2, 1, 0]\n",
      "ints_01 * 3\n",
      "[0, 1, 2, 3, 0, 1, 2, 3, 0, 1, 2, 3]\n",
      "\n",
      "\n"
     ]
    }
   ],
   "source": [
    "#\n",
    "ints_01=[0, 1, 2, 3]; print(\"ints_01:\"); print(ints_01)\n",
    "ints_02=[3, 2, 1, 0]; print(\"ints_02:\"); print(ints_02)\n",
    "#Concatenation\n",
    "print(\"ints_01+ints_02:\"); print(ints_01+ints_02)\n",
    "#x Concatenation\n",
    "print(\"ints_01 * 3\");      print(ints_01 * 3)\n",
    "#....................................\n",
    "print(\"\\n\")"
   ]
  },
  {
   "cell_type": "code",
   "execution_count": 19,
   "id": "180ea985-1256-4c5c-828f-2f78317d116d",
   "metadata": {},
   "outputs": [
    {
     "name": "stdout",
     "output_type": "stream",
     "text": [
      "5 10\n"
     ]
    }
   ],
   "source": [
    "#unpacking\n",
    "t = 5, 10\n",
    "x, y = t\n",
    "print(x, y)"
   ]
  },
  {
   "cell_type": "code",
   "execution_count": 24,
   "id": "57f7d020-d30b-4146-904e-7f1232d26bb7",
   "metadata": {},
   "outputs": [
    {
     "name": "stdout",
     "output_type": "stream",
     "text": [
      "1 2 [3, 4, 5, 6, 7, 8, 9]\n",
      "1 2 [3, 4, 5, 6, 7, 8] 9\n",
      "1 2 3 [4, 5, 6, 7, 8] 9\n"
     ]
    }
   ],
   "source": [
    "#unpacking\n",
    "numbers=[1,2,3,4,5,6,7,8,9]\n",
    "a,b,*c=numbers\n",
    "print(a,b,c)\n",
    "a,b,*c,d=numbers\n",
    "print(a,b,c,d)\n",
    "a,b,c,*d,e=numbers\n",
    "print(a,b,c,d,e)"
   ]
  },
  {
   "cell_type": "code",
   "execution_count": null,
   "id": "89e6956b-2a1d-4492-acdd-c0a88aca380f",
   "metadata": {},
   "outputs": [],
   "source": []
  }
 ],
 "metadata": {
  "kernelspec": {
   "display_name": "Python [conda env:base] *",
   "language": "python",
   "name": "conda-base-py"
  },
  "language_info": {
   "codemirror_mode": {
    "name": "ipython",
    "version": 3
   },
   "file_extension": ".py",
   "mimetype": "text/x-python",
   "name": "python",
   "nbconvert_exporter": "python",
   "pygments_lexer": "ipython3",
   "version": "3.12.7"
  }
 },
 "nbformat": 4,
 "nbformat_minor": 5
}
