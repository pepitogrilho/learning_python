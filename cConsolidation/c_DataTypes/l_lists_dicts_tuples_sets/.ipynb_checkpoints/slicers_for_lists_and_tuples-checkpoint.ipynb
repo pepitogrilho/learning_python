{
 "cells": [
  {
   "cell_type": "code",
   "execution_count": 1,
   "id": "db372b21-0ec9-4409-af80-6c3176f13ef3",
   "metadata": {},
   "outputs": [
    {
     "name": "stdout",
     "output_type": "stream",
     "text": [
      "[0]\n",
      "[0, 1]\n",
      "[0, 1, 2]\n",
      "[0, 1, 2, 3]\n",
      "[1]\n",
      "[1, 2]\n",
      "[1, 2, 3]\n",
      "[1, 2, 3, 4]\n",
      "[0]\n",
      "[1]\n",
      "[2]\n",
      "[3]\n"
     ]
    }
   ],
   "source": [
    "numbers=[0,1,2,3,4,5,6,7,8,9]\n",
    "print(numbers[0:1])\n",
    "print(numbers[0:2])\n",
    "print(numbers[0:3])\n",
    "print(numbers[0:4])\n",
    "print(numbers[1:2])\n",
    "print(numbers[1:3])\n",
    "print(numbers[1:4])\n",
    "print(numbers[1:5])\n",
    "print(numbers[0:1])\n",
    "print(numbers[1:2])\n",
    "print(numbers[2:3])\n",
    "print(numbers[3:4])"
   ]
  },
  {
   "cell_type": "code",
   "execution_count": 2,
   "id": "3c0f2fba-e114-44d1-a57c-44d249b96dc0",
   "metadata": {},
   "outputs": [
    {
     "name": "stdout",
     "output_type": "stream",
     "text": [
      "[0, 1, 2, 3, 4, 5, 6, 7, 8, 9]\n",
      "[1, 2, 3, 4, 5, 6, 7, 8]\n",
      "[2, 3, 4, 5, 6, 7]\n",
      "[3, 4, 5, 6]\n"
     ]
    }
   ],
   "source": [
    "#negative index\n",
    "numbers=[0,1,2,3,4,5,6,7,8,9]\n",
    "print(numbers[0:])\n",
    "print(numbers[1:-1])\n",
    "print(numbers[2:-2])\n",
    "print(numbers[3:-3])"
   ]
  },
  {
   "cell_type": "code",
   "execution_count": 3,
   "id": "23cc8fe4-e128-43f5-b34c-899e41465272",
   "metadata": {},
   "outputs": [
    {
     "name": "stdout",
     "output_type": "stream",
     "text": [
      "[0, 1, 2, 3]\n",
      "[4, 5, 6, 7, 8, 9]\n"
     ]
    }
   ],
   "source": [
    "#Omitted start/end\n",
    "numbers=[0,1,2,3,4,5,6,7,8,9]\n",
    "print(numbers[:4])\n",
    "print(numbers[4:])"
   ]
  },
  {
   "cell_type": "code",
   "execution_count": 4,
   "id": "6c154167-d823-4f9e-bc91-8c767a75854f",
   "metadata": {},
   "outputs": [
    {
     "name": "stdout",
     "output_type": "stream",
     "text": [
      "[0, 2, 4, 6, 8]\n",
      "[0, 3, 6, 9]\n",
      "[0, 4, 8]\n",
      "[0, 5]\n"
     ]
    }
   ],
   "source": [
    "#3rd argument = step\n",
    "numbers=[0,1,2,3,4,5,6,7,8,9]\n",
    "print(numbers[0:10:2])\n",
    "print(numbers[0:10:3])\n",
    "print(numbers[0:10:4])\n",
    "print(numbers[0:10:5])"
   ]
  },
  {
   "cell_type": "code",
   "execution_count": 5,
   "id": "e3be53ee-7dc9-4fa1-8218-de802b4f3dbb",
   "metadata": {},
   "outputs": [
    {
     "name": "stdout",
     "output_type": "stream",
     "text": [
      "[9, 8, 7, 6, 5, 4, 3, 2, 1, 0]\n",
      "[9, 8, 7, 6, 5, 4, 3, 2, 1, 0]\n",
      "[7, 6]\n"
     ]
    }
   ],
   "source": [
    "#negative 3rd argument\n",
    "numbers=[0,1,2,3,4,5,6,7,8,9]\n",
    "print(numbers[::-1])\n",
    "print(numbers[9::-1])\n",
    "print(numbers[7:5:-1])"
   ]
  },
  {
   "cell_type": "code",
   "execution_count": null,
   "id": "358a9735-5ae4-47a5-9315-df269cfbde78",
   "metadata": {},
   "outputs": [],
   "source": []
  }
 ],
 "metadata": {
  "kernelspec": {
   "display_name": "Python [conda env:base] *",
   "language": "python",
   "name": "conda-base-py"
  },
  "language_info": {
   "codemirror_mode": {
    "name": "ipython",
    "version": 3
   },
   "file_extension": ".py",
   "mimetype": "text/x-python",
   "name": "python",
   "nbconvert_exporter": "python",
   "pygments_lexer": "ipython3",
   "version": "3.12.7"
  }
 },
 "nbformat": 4,
 "nbformat_minor": 5
}
