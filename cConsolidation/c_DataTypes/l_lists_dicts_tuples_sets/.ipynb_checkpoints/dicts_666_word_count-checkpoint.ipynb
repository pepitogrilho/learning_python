{
 "cells": [
  {
   "cell_type": "code",
   "execution_count": 12,
   "id": "b4de322a-836b-4c96-9b97-5155f9514133",
   "metadata": {},
   "outputs": [
    {
     "name": "stdout",
     "output_type": "stream",
     "text": [
      "{'data': 1, 'science': 1, 'from': 1, 'scratch': 2}\n",
      "{'data': 1, 'science': 1, 'from': 1, 'scratch': 2}\n",
      "{'data': 1, 'science': 1, 'from': 1, 'scratch': 2}\n"
     ]
    }
   ],
   "source": [
    "document = [\"data\", \"science\", \"from\", \"scratch\", \"scratch\"]\n",
    "\n",
    "word_counts = {}\n",
    "for word in document:\n",
    "  if word in word_counts: \n",
    "    word_counts[word] += 1\n",
    "  else: \n",
    "    word_counts[word] = 1\n",
    "print(word_counts)\n",
    "\n",
    "word_counts = {}\n",
    "for word in document:\n",
    "  try: \n",
    "    word_counts[word] += 1\n",
    "  except KeyError: \n",
    "    word_counts[word] = 1\n",
    "print(word_counts)\n",
    "\n",
    "word_counts = {}\n",
    "for word in document:\n",
    "  prev_count = word_counts.get(word,0) \n",
    "  word_counts[word] = 1 + prev_count\n",
    "print(word_counts)"
   ]
  },
  {
   "cell_type": "code",
   "execution_count": null,
   "id": "ae91e678-9336-4065-9047-d214589cb421",
   "metadata": {},
   "outputs": [],
   "source": []
  }
 ],
 "metadata": {
  "kernelspec": {
   "display_name": "Python [conda env:base] *",
   "language": "python",
   "name": "conda-base-py"
  },
  "language_info": {
   "codemirror_mode": {
    "name": "ipython",
    "version": 3
   },
   "file_extension": ".py",
   "mimetype": "text/x-python",
   "name": "python",
   "nbconvert_exporter": "python",
   "pygments_lexer": "ipython3",
   "version": "3.12.7"
  }
 },
 "nbformat": 4,
 "nbformat_minor": 5
}
