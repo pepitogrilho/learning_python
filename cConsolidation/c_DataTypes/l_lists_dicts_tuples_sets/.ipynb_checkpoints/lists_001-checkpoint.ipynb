{
 "cells": [
  {
   "cell_type": "code",
   "execution_count": 12,
   "id": "b4be4a7b-fe37-4bd9-b7df-1edb13e23c31",
   "metadata": {},
   "outputs": [
    {
     "name": "stdout",
     "output_type": "stream",
     "text": [
      "ints_01:[0]\n",
      "ints_01:[0, 1]\n",
      "ints_01:[0, 1, 2]\n",
      "ints_01:[0, 1]\n",
      "ints_01:[0]\n"
     ]
    }
   ],
   "source": [
    "#methods: append(x), pop() ...............\n",
    "ints_01=[0];        print(\"ints_01:\",end=\"\"); print(ints_01)\n",
    "ints_01.append(1);  print(\"ints_01:\",end=\"\"); print(ints_01)\n",
    "ints_01.append(2);  print(\"ints_01:\",end=\"\"); print(ints_01)\n",
    "ints_01.pop();      print(\"ints_01:\",end=\"\"); print(ints_01)\n",
    "ints_01.pop();      print(\"ints_01:\",end=\"\"); print(ints_01)"
   ]
  },
  {
   "cell_type": "code",
   "execution_count": 13,
   "id": "ba0b3c02-df60-41aa-b7eb-1cec76fe938c",
   "metadata": {},
   "outputs": [
    {
     "name": "stdout",
     "output_type": "stream",
     "text": [
      "\"INSERT\" is a method similar to \"append\"\n",
      "ints_02=[1, 3]\n",
      "ints_02.insert(1,2)...[1, 2, 3]\n",
      "ints_02.insert(0,0)...[0, 1, 2, 3]\n",
      "\n",
      "\n"
     ]
    }
   ],
   "source": [
    "#methods : \"INSERT\" ...............\n",
    "print(\"\\\"INSERT\\\" is a method similar to \\\"append\\\"\")\n",
    "ints_02=[1,3];       print(\"ints_02=\"+str(ints_02))\n",
    "ints_02.insert(1,2); print(\"ints_02.insert(1,2)...\"+str(ints_02))\n",
    "ints_02.insert(0,0); print(\"ints_02.insert(0,0)...\"+str(ints_02))\n",
    "print(\"\\n\")"
   ]
  },
  {
   "cell_type": "code",
   "execution_count": 60,
   "id": "676b510a-228e-4ef2-90a6-094084328f70",
   "metadata": {},
   "outputs": [
    {
     "name": "stdout",
     "output_type": "stream",
     "text": [
      "x=[1, 2, 3]\n",
      "x.extend([4,5,6])=[1, 2, 3, 4, 5, 6]\n",
      "x.extend([4,5,6])=[1, 2, 3, 4, 5, 6, 4, 5, 6]\n"
     ]
    }
   ],
   "source": [
    "#methods : \"EXTEND\" ...............\n",
    "x=[1,2,3];         print(f\"x={x}\")\n",
    "x.extend([4,5,6]); print(f\"x.extend([4,5,6])={x}\")\n",
    "x.extend([4,5,6]); print(f\"x.extend([4,5,6])={x}\")"
   ]
  },
  {
   "cell_type": "code",
   "execution_count": 17,
   "id": "37f79d4b-8400-405f-bd20-9291d63acc5a",
   "metadata": {},
   "outputs": [
    {
     "name": "stdout",
     "output_type": "stream",
     "text": [
      "['u', 'p', 's', 'r', 'q', 'p']\n",
      "['u', 'p', 'r', 'q', 'p']\n"
     ]
    }
   ],
   "source": [
    "#list/array : more methods ....................\n",
    "letters.reverse()\n",
    "print(letters)\n",
    "letters.remove('s')\n",
    "print(letters)"
   ]
  },
  {
   "cell_type": "code",
   "execution_count": 30,
   "id": "89e6956b-2a1d-4492-acdd-c0a88aca380f",
   "metadata": {},
   "outputs": [
    {
     "name": "stdout",
     "output_type": "stream",
     "text": [
      "[1, 2, 2, 2, 2, 3, 3, 3, 3, 3]\n",
      "[3, 3, 3, 3, 3, 2, 2, 2, 2, 1]\n",
      "[(9, 1), (0, 2), (4, 2), (6, 2), (7, 2), (1, 3), (2, 3), (3, 3), (5, 3), (8, 3)]\n",
      "[(1, 3), (2, 3), (3, 3), (5, 3), (8, 3), (0, 2), (4, 2), (6, 2), (7, 2), (9, 1)]\n"
     ]
    }
   ],
   "source": [
    "# order\n",
    "num_friends = [2,3,3,3,2,3,2,2,3,1]\n",
    "num_friends.sort(); print(num_friends);num_friends.sort(reverse=True); print(num_friends)\n",
    "\n",
    "# col0 = id , col1 = num_friends\n",
    "num_friends = [(0, 2), (1, 3), (2, 3), (3, 3), (4, 2), (5, 3), (6, 2), (7, 2), (8, 3), (9, 1)]\n",
    "# initially ordered by col0(id). But now we want to oder by col1 (num_friends) desc\n",
    "num_friends.sort(key=lambda x: x[1])                                 ; print(num_friends)\n",
    "num_friends.sort(key=lambda x: x[1], reverse=True)                   ; print(num_friends)"
   ]
  },
  {
   "cell_type": "code",
   "execution_count": null,
   "id": "785e49d2-7fa6-4407-bb6e-829acb9996da",
   "metadata": {},
   "outputs": [],
   "source": []
  }
 ],
 "metadata": {
  "kernelspec": {
   "display_name": "Python [conda env:base] *",
   "language": "python",
   "name": "conda-base-py"
  },
  "language_info": {
   "codemirror_mode": {
    "name": "ipython",
    "version": 3
   },
   "file_extension": ".py",
   "mimetype": "text/x-python",
   "name": "python",
   "nbconvert_exporter": "python",
   "pygments_lexer": "ipython3",
   "version": "3.12.7"
  }
 },
 "nbformat": 4,
 "nbformat_minor": 5
}
