{
 "cells": [
  {
   "cell_type": "code",
   "execution_count": 2,
   "id": "b4be4a7b-fe37-4bd9-b7df-1edb13e23c31",
   "metadata": {},
   "outputs": [
    {
     "name": "stdout",
     "output_type": "stream",
     "text": [
      "cannot modify a tuple\n"
     ]
    }
   ],
   "source": [
    "#Tuples are like lists, but cannot be changed\n",
    "#Tuples = Constant/Immutable lists\n",
    "#Tuples are faster than lists, but cannot be changed\n",
    "my_tuple = (1, 2)\n",
    "try:\n",
    "    my_tuple[1] = 3\n",
    "except TypeError:\n",
    "    print(\"cannot modify a tuple\")"
   ]
  },
  {
   "cell_type": "code",
   "execution_count": 5,
   "id": "ba0b3c02-df60-41aa-b7eb-1cec76fe938c",
   "metadata": {},
   "outputs": [
    {
     "name": "stdout",
     "output_type": "stream",
     "text": [
      "('a', 'b', 'c')\n",
      "a\n"
     ]
    }
   ],
   "source": [
    "#Tuples can be created without parenthesis:\n",
    "x=\"a\", \"b\", \"c\"\n",
    "print(x)\n",
    "print(x[0])"
   ]
  },
  {
   "cell_type": "code",
   "execution_count": 12,
   "id": "785e49d2-7fa6-4407-bb6e-829acb9996da",
   "metadata": {},
   "outputs": [
    {
     "name": "stdout",
     "output_type": "stream",
     "text": [
      "('a', 'b', 'c')\n",
      "a b c\n"
     ]
    }
   ],
   "source": [
    "#unpacking\n",
    "x=(\"a\", \"b\", \"c\"); print(x)\n",
    "a, b, x = x      ; print(a,b,c)"
   ]
  },
  {
   "cell_type": "code",
   "execution_count": 13,
   "id": "3615867e-18b3-4f27-833c-8d8f9060868b",
   "metadata": {},
   "outputs": [
    {
     "name": "stdout",
     "output_type": "stream",
     "text": [
      "a c\n"
     ]
    }
   ],
   "source": [
    "#Ignoring a value > \"_\" variable\n",
    "words=(\"a\", \"b\", \"c\")\n",
    "a, _, c = words\n",
    "print(a, c)"
   ]
  },
  {
   "cell_type": "code",
   "execution_count": 18,
   "id": "850cf4eb-2485-49d2-9036-e1727b30fa55",
   "metadata": {},
   "outputs": [
    {
     "name": "stdout",
     "output_type": "stream",
     "text": [
      "('Bob', 42, 'Mechanic')\n",
      "('James', 24, 'Artist')\n",
      "('Harry', 32, 'Lecturer')\n",
      "name=Bob,age=42,prof=Mechanic\n",
      "name=James,age=24,prof=Artist\n",
      "name=Harry,age=32,prof=Lecturer\n",
      "Name: Bob / Age: 42 / Profession: Mechanic\n",
      "Name: James / Age: 24 / Profession: Artist\n",
      "Name: Harry / Age: 32 / Profession: Lecturer\n",
      "Name: Bob / Age: 42 / Profession: Mechanic\n",
      "Name: James / Age: 24 / Profession: Artist\n",
      "Name: Harry / Age: 32 / Profession: Lecturer\n"
     ]
    }
   ],
   "source": [
    "people = [(\"Bob\", 42, \"Mechanic\"), (\"James\", 24, \"Artist\"), (\"Harry\", 32, \"Lecturer\")]\n",
    "\n",
    "for tup in people: print(tup)\n",
    "\n",
    "for tup in people: \n",
    "    name, age, prof = tup\n",
    "    print(f\"name={name},age={age},prof={prof}\")\n",
    "\n",
    "for name, age, profession in people:\n",
    "    print(f\"Name: {name} / Age: {age} / Profession: {profession}\")\n",
    "    \n",
    "for person in people:\n",
    "    print(f\"Name: {person[0]} / Age: {person[1]} / Profession: {person[2]}\")"
   ]
  },
  {
   "cell_type": "code",
   "execution_count": null,
   "id": "a51a6033-3c2b-4346-858b-fa7a7c776141",
   "metadata": {},
   "outputs": [],
   "source": []
  }
 ],
 "metadata": {
  "kernelspec": {
   "display_name": "Python [conda env:base] *",
   "language": "python",
   "name": "conda-base-py"
  },
  "language_info": {
   "codemirror_mode": {
    "name": "ipython",
    "version": 3
   },
   "file_extension": ".py",
   "mimetype": "text/x-python",
   "name": "python",
   "nbconvert_exporter": "python",
   "pygments_lexer": "ipython3",
   "version": "3.12.7"
  }
 },
 "nbformat": 4,
 "nbformat_minor": 5
}
