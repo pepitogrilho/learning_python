{
 "cells": [
  {
   "cell_type": "code",
   "execution_count": 2,
   "id": "7beb3791-032c-40c5-a06a-480fadf4c44c",
   "metadata": {},
   "outputs": [
    {
     "data": {
      "text/plain": [
       "[0, 1, 4, 9, 16]"
      ]
     },
     "execution_count": 2,
     "metadata": {},
     "output_type": "execute_result"
    }
   ],
   "source": [
    "squares = [x**2 for x in range(5)]\n",
    "squares"
   ]
  },
  {
   "cell_type": "code",
   "execution_count": 14,
   "id": "5c00701e-942b-4389-b631-9b68d25cf668",
   "metadata": {},
   "outputs": [
    {
     "name": "stdout",
     "output_type": "stream",
     "text": [
      "lambda+for:\n",
      "0-1-4-9-16-\n",
      "lambda+comprehension:\n",
      "[0, 1, 4, 9, 16]\n"
     ]
    }
   ],
   "source": [
    "square = lambda x: x**2\n",
    "print(\"lambda+for:\")\n",
    "for i in range(5):\n",
    "  print(f\"{square(i)}-\",end=\"\")\n",
    "squares = [square(i) for i in range(5)]\n",
    "print(\"\\nlambda+comprehension:\")\n",
    "print(squares)"
   ]
  },
  {
   "cell_type": "code",
   "execution_count": 16,
   "id": "5e77feee-57e5-48b3-bffe-80e314418c13",
   "metadata": {},
   "outputs": [
    {
     "name": "stdout",
     "output_type": "stream",
     "text": [
      "[1, 2, 3, 4, 5, 6]\n"
     ]
    }
   ],
   "source": [
    "#from 1 to 6\n",
    "from_1_to_6 = [i+1 for i in range(6)]\n",
    "print(from_1_to_6)"
   ]
  },
  {
   "cell_type": "code",
   "execution_count": 17,
   "id": "8fadc1dd-e2fd-455d-825c-648f8356829e",
   "metadata": {},
   "outputs": [
    {
     "name": "stdout",
     "output_type": "stream",
     "text": [
      "[0, 2, 4, 6, 8, 10]\n"
     ]
    }
   ],
   "source": [
    "#evens_v1\n",
    "evens_0_10 = [i*2 for i in range(6)]\n",
    "print(evens_0_10)"
   ]
  },
  {
   "cell_type": "code",
   "execution_count": 18,
   "id": "bb9f6333-2800-4e4e-8c0e-521427fb7108",
   "metadata": {},
   "outputs": [
    {
     "name": "stdout",
     "output_type": "stream",
     "text": [
      "[0, 1, 8, 27, 64]\n"
     ]
    }
   ],
   "source": [
    "#exponential\n",
    "cubes_0_4 = [i**3 for i in range(5)]\n",
    "print(cubes_0_4)"
   ]
  },
  {
   "cell_type": "code",
   "execution_count": 19,
   "id": "d0ccda82-e288-42d9-b2b2-f820a585846e",
   "metadata": {},
   "outputs": [
    {
     "name": "stdout",
     "output_type": "stream",
     "text": [
      "[0, 2, 4, 6, 8, 10]\n"
     ]
    }
   ],
   "source": [
    "#evens_v1\n",
    "evens_0_10_v2 = [i for i in range(11) if i%2==0]\n",
    "print(evens_0_10_v2)"
   ]
  },
  {
   "cell_type": "code",
   "execution_count": 21,
   "id": "cdc71918-072a-44eb-8ab9-b210013de6ab",
   "metadata": {},
   "outputs": [
    {
     "name": "stdout",
     "output_type": "stream",
     "text": [
      "[0, 1, 2, 3, 4, 5, 6, 7, 8, 9, 10]\n"
     ]
    }
   ],
   "source": [
    "print(list(range(11)))"
   ]
  },
  {
   "cell_type": "code",
   "execution_count": 22,
   "id": "befff4a5-09d3-4310-9590-80512c228151",
   "metadata": {},
   "outputs": [
    {
     "data": {
      "text/plain": [
       "[0, 2, 4, 6, 8, 10]"
      ]
     },
     "execution_count": 22,
     "metadata": {},
     "output_type": "execute_result"
    }
   ],
   "source": [
    "[i for i in range(11) if i%2==0]"
   ]
  },
  {
   "cell_type": "code",
   "execution_count": 23,
   "id": "af26e80f-b11e-407e-b488-c76ffd21b819",
   "metadata": {},
   "outputs": [
    {
     "name": "stdout",
     "output_type": "stream",
     "text": [
      "[0, 3, 6, 9, 12, 15, 18]\n"
     ]
    }
   ],
   "source": [
    "#multiples_of_3\n",
    "multiples_of_3 = [i for i in range(21) if i%3==0]\n",
    "print(multiples_of_3)"
   ]
  },
  {
   "cell_type": "code",
   "execution_count": null,
   "id": "53faafb9-9a42-4934-b49c-9162f5672f4b",
   "metadata": {},
   "outputs": [],
   "source": []
  }
 ],
 "metadata": {
  "kernelspec": {
   "display_name": "Python [conda env:base] *",
   "language": "python",
   "name": "conda-base-py"
  },
  "language_info": {
   "codemirror_mode": {
    "name": "ipython",
    "version": 3
   },
   "file_extension": ".py",
   "mimetype": "text/x-python",
   "name": "python",
   "nbconvert_exporter": "python",
   "pygments_lexer": "ipython3",
   "version": "3.12.7"
  }
 },
 "nbformat": 4,
 "nbformat_minor": 5
}
