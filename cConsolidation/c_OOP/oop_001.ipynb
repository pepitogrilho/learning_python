{
 "cells": [
  {
   "cell_type": "code",
   "execution_count": 3,
   "id": "7c01f277-656e-4d9b-8025-7a143b9d992c",
   "metadata": {},
   "outputs": [
    {
     "name": "stdout",
     "output_type": "stream",
     "text": [
      "<class '__main__.Student'>\n",
      "nameRolf\n",
      "Rolf\n",
      "(90, 90, 93, 78, 90)\n",
      "88.2\n"
     ]
    }
   ],
   "source": [
    "class Student:\n",
    "  def __init__(self, name, grades):\n",
    "    self.name = name\n",
    "    self.grades = grades\n",
    "  def __repr__(self):\n",
    "    return f\"name{self.name}\"\n",
    "  def average(self):\n",
    "    return sum(self.grades)/len(self.grades)\n",
    "    \n",
    "stu_rolf = Student(\"Rolf\", (90,90,93,78,90))\n",
    "print(type(stu_rolf))\n",
    "print(stu_rolf)\n",
    "print(stu_rolf.name)\n",
    "print(stu_rolf.grades)\n",
    "print(stu_rolf.average())"
   ]
  },
  {
   "cell_type": "code",
   "execution_count": null,
   "id": "7dd14258-2c7e-423f-9a94-8d24d9a1bbdb",
   "metadata": {},
   "outputs": [],
   "source": []
  }
 ],
 "metadata": {
  "kernelspec": {
   "display_name": "Python [conda env:base] *",
   "language": "python",
   "name": "conda-base-py"
  },
  "language_info": {
   "codemirror_mode": {
    "name": "ipython",
    "version": 3
   },
   "file_extension": ".py",
   "mimetype": "text/x-python",
   "name": "python",
   "nbconvert_exporter": "python",
   "pygments_lexer": "ipython3",
   "version": "3.12.7"
  }
 },
 "nbformat": 4,
 "nbformat_minor": 5
}
