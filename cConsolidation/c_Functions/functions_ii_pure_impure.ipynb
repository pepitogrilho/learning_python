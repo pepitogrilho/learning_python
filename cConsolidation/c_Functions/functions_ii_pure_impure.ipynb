{
 "cells": [
  {
   "cell_type": "code",
   "execution_count": 1,
   "id": "5642dcfa-9e34-4049-8f08-6cfcb2e6d5de",
   "metadata": {},
   "outputs": [
    {
     "name": "stdout",
     "output_type": "stream",
     "text": [
      "1.0\n",
      "['kk']\n"
     ]
    }
   ],
   "source": [
    "#Pure: it has always the same result \n",
    "def pure_function(x,y):\n",
    "    return (x+2*y)/(2*x+y)\n",
    "print(pure_function(1,1))\n",
    "#Impure: the result depends on external conditions\n",
    "list_01 = []\n",
    "def impure_function(arg):\n",
    "    list_01.append(arg)  \n",
    "impure_function(\"kk\")\n",
    "print(list_01)"
   ]
  },
  {
   "cell_type": "code",
   "execution_count": null,
   "id": "e70a90ca-d213-4208-98ab-1efb0c5362f2",
   "metadata": {},
   "outputs": [],
   "source": []
  }
 ],
 "metadata": {
  "kernelspec": {
   "display_name": "Python [conda env:base] *",
   "language": "python",
   "name": "conda-base-py"
  },
  "language_info": {
   "codemirror_mode": {
    "name": "ipython",
    "version": 3
   },
   "file_extension": ".py",
   "mimetype": "text/x-python",
   "name": "python",
   "nbconvert_exporter": "python",
   "pygments_lexer": "ipython3",
   "version": "3.12.7"
  }
 },
 "nbformat": 4,
 "nbformat_minor": 5
}
