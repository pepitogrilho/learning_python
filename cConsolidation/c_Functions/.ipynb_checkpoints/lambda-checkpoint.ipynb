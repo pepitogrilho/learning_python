{
 "cells": [
  {
   "cell_type": "code",
   "execution_count": 6,
   "id": "99f90d9c-5280-424a-927a-0f2022f0fbbf",
   "metadata": {},
   "outputs": [
    {
     "name": "stdout",
     "output_type": "stream",
     "text": [
      "16\n",
      "16\n"
     ]
    }
   ],
   "source": [
    "double = lambda x: x*2\n",
    "z=double(8)          ;print(z)\n",
    "z=(lambda x: x*2)(8) ;print(z)"
   ]
  },
  {
   "cell_type": "code",
   "execution_count": 8,
   "id": "0540b863-e7c1-48c8-8ac7-d1364d6da0a1",
   "metadata": {},
   "outputs": [
    {
     "name": "stdout",
     "output_type": "stream",
     "text": [
      "21\n",
      "21\n"
     ]
    }
   ],
   "source": [
    "mult = lambda x,y: x*y\n",
    "z=mult(3,7)              ;print(z)\n",
    "z=(lambda x,y:x*y)(3,7)  ;print(z)"
   ]
  },
  {
   "cell_type": "code",
   "execution_count": 14,
   "id": "a4633eb9-a1dc-43bc-9a11-dcbbe8ba7eb5",
   "metadata": {},
   "outputs": [
    {
     "name": "stdout",
     "output_type": "stream",
     "text": [
      "9\n",
      "21\n",
      "21\n"
     ]
    }
   ],
   "source": [
    "def function_caller(f,arg):\n",
    "  return f(arg)\n",
    "z=function_caller(lambda x: x**2,3) ; print(z)\n",
    "\n",
    "def function_caller(f,arg1,arg2):\n",
    "  return f(arg1,arg2)\n",
    "z=function_caller(lambda x,y: x*y,3,7) ; print(z)\n",
    "\n",
    "def function_caller(f,arg_list):\n",
    "  return f(arg_list)\n",
    "z=function_caller(lambda x: x[0]*x[1],[3,7]) ; print(z)"
   ]
  },
  {
   "cell_type": "code",
   "execution_count": 23,
   "id": "41aa070c-40db-4351-bcca-49114daf2138",
   "metadata": {},
   "outputs": [
    {
     "name": "stdout",
     "output_type": "stream",
     "text": [
      "[16, 27, 38, 49, 60]\n",
      "12\n",
      "[16, 27, 38, 49, 60]\n"
     ]
    }
   ],
   "source": [
    "#map\n",
    "nums=[11,22,33,44,55]\n",
    "\n",
    "numsp5_v1=[x+5 for x in nums]                ; print(numsp5_v1)\n",
    "\n",
    "numsp5_v2a = (lambda x : x+5)(7)             ; print(numsp5_v2a)\n",
    "#numsp5_v2b_failed = (lambda x : x+5)(nums)\n",
    "numsp5_v3 = map((lambda x : x+5),(nums))     ; print(list(numsp5_v3))\n"
   ]
  },
  {
   "cell_type": "code",
   "execution_count": 35,
   "id": "a0737d10-67fe-4c23-a118-72c71cd4d0b0",
   "metadata": {},
   "outputs": [
    {
     "name": "stdout",
     "output_type": "stream",
     "text": [
      "[0, 1, 2, 3, 4, 5, 6, 7, 8, 9, 10]\n",
      "[1, 3, 5, 7, 9]\n"
     ]
    }
   ],
   "source": [
    "#filter\n",
    "nums=list(range(11))                           ;print(nums)\n",
    "nums_odds = filter((lambda x : x%2!=0),(nums)) ;print(list(nums_odds))"
   ]
  },
  {
   "cell_type": "code",
   "execution_count": 36,
   "id": "0da05fb5-d3b0-4d35-b697-5de3b7ce4aaf",
   "metadata": {},
   "outputs": [
    {
     "name": "stdout",
     "output_type": "stream",
     "text": [
      "[1, 2, 2, 2, 2, 3, 3, 3, 3, 3]\n",
      "[3, 3, 3, 3, 3, 2, 2, 2, 2, 1]\n",
      "[(9, 1), (0, 2), (4, 2), (6, 2), (7, 2), (1, 3), (2, 3), (3, 3), (5, 3), (8, 3)]\n",
      "[(1, 3), (2, 3), (3, 3), (5, 3), (8, 3), (0, 2), (4, 2), (6, 2), (7, 2), (9, 1)]\n"
     ]
    }
   ],
   "source": [
    "# order\n",
    "num_friends = [2,3,3,3,2,3,2,2,3,1]\n",
    "num_friends.sort(); print(num_friends);num_friends.sort(reverse=True); print(num_friends)\n",
    "\n",
    "# col0 = id , col1 = num_friends\n",
    "num_friends = [(0, 2), (1, 3), (2, 3), (3, 3), (4, 2), (5, 3), (6, 2), (7, 2), (8, 3), (9, 1)]\n",
    "# initially ordered by col0(id). But now we want to oder by col1 (num_friends) desc\n",
    "num_friends.sort(key=lambda x: x[1])                                 ; print(num_friends)\n",
    "num_friends.sort(key=lambda x: x[1], reverse=True)                   ; print(num_friends)"
   ]
  },
  {
   "cell_type": "code",
   "execution_count": null,
   "id": "83fd11b5-bdef-4417-8766-ea8981ea7532",
   "metadata": {},
   "outputs": [],
   "source": [
    "0"
   ]
  }
 ],
 "metadata": {
  "kernelspec": {
   "display_name": "Python [conda env:base] *",
   "language": "python",
   "name": "conda-base-py"
  },
  "language_info": {
   "codemirror_mode": {
    "name": "ipython",
    "version": 3
   },
   "file_extension": ".py",
   "mimetype": "text/x-python",
   "name": "python",
   "nbconvert_exporter": "python",
   "pygments_lexer": "ipython3",
   "version": "3.12.7"
  }
 },
 "nbformat": 4,
 "nbformat_minor": 5
}
