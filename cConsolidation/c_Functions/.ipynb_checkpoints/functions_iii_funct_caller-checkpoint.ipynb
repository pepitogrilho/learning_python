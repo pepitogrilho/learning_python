{
 "cells": [
  {
   "cell_type": "code",
   "execution_count": 2,
   "id": "5642dcfa-9e34-4049-8f08-6cfcb2e6d5de",
   "metadata": {},
   "outputs": [
    {
     "name": "stdout",
     "output_type": "stream",
     "text": [
      "9\n",
      "21\n",
      "21\n"
     ]
    }
   ],
   "source": [
    "def f_caller(f,arg):\n",
    "  return f(arg)\n",
    "z=f_caller(lambda x: x**2,3) ; print(z)\n",
    "\n",
    "def f_caller(f,arg1,arg2):\n",
    "  return f(arg1,arg2)\n",
    "z=f_caller(lambda x,y: x*y,3,7) ; print(z)\n",
    "\n",
    "def f_caller(f,arg_list):\n",
    "  return f(arg_list)\n",
    "z=f_caller(lambda x: x[0]*x[1],[3,7]) ; print(z)"
   ]
  },
  {
   "cell_type": "code",
   "execution_count": 4,
   "id": "e70a90ca-d213-4208-98ab-1efb0c5362f2",
   "metadata": {},
   "outputs": [
    {
     "name": "stdout",
     "output_type": "stream",
     "text": [
      "4\n"
     ]
    }
   ],
   "source": [
    "def square(x):\n",
    "    return x*x\n",
    "\n",
    "def f_caller(f,x):\n",
    "    return f(x)\n",
    "\n",
    "print(f_caller(square,2))"
   ]
  },
  {
   "cell_type": "code",
   "execution_count": null,
   "id": "9ca5ef35-3164-4ce1-b3ba-ae7029b68ab8",
   "metadata": {},
   "outputs": [],
   "source": []
  }
 ],
 "metadata": {
  "kernelspec": {
   "display_name": "Python [conda env:base] *",
   "language": "python",
   "name": "conda-base-py"
  },
  "language_info": {
   "codemirror_mode": {
    "name": "ipython",
    "version": 3
   },
   "file_extension": ".py",
   "mimetype": "text/x-python",
   "name": "python",
   "nbconvert_exporter": "python",
   "pygments_lexer": "ipython3",
   "version": "3.12.7"
  }
 },
 "nbformat": 4,
 "nbformat_minor": 5
}
