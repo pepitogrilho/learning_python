{
 "cells": [
  {
   "cell_type": "code",
   "execution_count": 31,
   "id": "27283b5f-736a-4831-b356-556cc0588793",
   "metadata": {},
   "outputs": [
    {
     "name": "stdout",
     "output_type": "stream",
     "text": [
      "type(x)=<class 'int'>//x=3\n",
      "type(y)=<class 'int'>//y=5\n",
      "8\n",
      "type(x)=<class 'int'>//x=3\n",
      "type(y)=<class 'int'>//y=5\n",
      "8\n",
      "type(x)=<class 'str'>//x=x\n",
      "type(y)=<class 'str'>//y=y\n",
      "xy\n",
      "type(x)=<class 'int'>//x=3\n",
      "type(y)=<class 'int'>//y=5\n",
      "8\n"
     ]
    }
   ],
   "source": [
    "#passing parameters from a TUPLE & LIST\n",
    "def add(x, y):\n",
    "  print(f\"type(x)={type(x)}//x={x}\")\n",
    "  print(f\"type(y)={type(y)}//y={y}\")\n",
    "  return x+y\n",
    "nums=(3,5); print(add(*nums))          #TUPLE*\n",
    "nums=[3,5]; print(add(*nums))          #LIST*\n",
    "nums={'x':3,'y':5}; print(add(*nums))  #DICT*\n",
    "nums={'x':3,'y':5}; print(add(**nums)) #DICT**"
   ]
  },
  {
   "cell_type": "code",
   "execution_count": 33,
   "id": "b2861aed-0771-46a0-9399-86839a70f62b",
   "metadata": {},
   "outputs": [
    {
     "name": "stdout",
     "output_type": "stream",
     "text": [
      "type(args)=<class 'tuple'>//args=(3, 5)\n",
      "8\n",
      "type(args)=<class 'tuple'>//args=(3, 5)\n",
      "8\n",
      "type(kwargs)=<class 'dict'>//kwargs={'x': 3, 'y': 5}\n",
      "8\n"
     ]
    }
   ],
   "source": [
    "#Now, even when we pass a LIST, it is received as a TUPLE\n",
    "def add(*args):\n",
    "  print(f\"type(args)={type(args)}//args={args}\")\n",
    "  return args[0]+args[1]\n",
    "nums=(3,5); print(add(*nums))          #TUPLE*\n",
    "nums=[3,5]; print(add(*nums))          #LIST*\n",
    "\n",
    "#Now, we pass a LIST, and this time is received as a LIST\n",
    "def add(**kwargs):\n",
    "  print(f\"type(kwargs)={type(kwargs)}//kwargs={kwargs}\")\n",
    "  return kwargs['x']+kwargs['y']\n",
    "nums={'x':3,'y':5}; print(add(**nums)) #DICT**"
   ]
  },
  {
   "cell_type": "code",
   "execution_count": null,
   "id": "1deb5eab-f7da-4eb1-91c7-ab08d0336d2e",
   "metadata": {},
   "outputs": [],
   "source": []
  }
 ],
 "metadata": {
  "kernelspec": {
   "display_name": "Python [conda env:base] *",
   "language": "python",
   "name": "conda-base-py"
  },
  "language_info": {
   "codemirror_mode": {
    "name": "ipython",
    "version": 3
   },
   "file_extension": ".py",
   "mimetype": "text/x-python",
   "name": "python",
   "nbconvert_exporter": "python",
   "pygments_lexer": "ipython3",
   "version": "3.12.7"
  }
 },
 "nbformat": 4,
 "nbformat_minor": 5
}
