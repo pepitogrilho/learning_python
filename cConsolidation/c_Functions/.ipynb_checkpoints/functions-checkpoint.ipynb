{
 "cells": [
  {
   "cell_type": "code",
   "execution_count": 1,
   "id": "58ee5f7b-585e-4856-8545-82b77bce52e6",
   "metadata": {},
   "outputs": [
    {
     "name": "stdout",
     "output_type": "stream",
     "text": [
      "hello world\n"
     ]
    }
   ],
   "source": [
    "def hello_world():\n",
    "  print(\"hello world\")\n",
    "hello_world()"
   ]
  },
  {
   "cell_type": "code",
   "execution_count": 2,
   "id": "b0557214-9bd1-498e-a8af-f31db8a14802",
   "metadata": {},
   "outputs": [
    {
     "name": "stdout",
     "output_type": "stream",
     "text": [
      "hello world\n"
     ]
    }
   ],
   "source": [
    "def hello(to):\n",
    "  print(\"hello \" + to)\n",
    "hello(\"world\")"
   ]
  },
  {
   "cell_type": "code",
   "execution_count": 4,
   "id": "8e61e132-c7c6-441c-b6ff-0924372a4cec",
   "metadata": {},
   "outputs": [
    {
     "name": "stdout",
     "output_type": "stream",
     "text": [
      "hello world\n"
     ]
    },
    {
     "data": {
      "text/plain": [
       "True"
      ]
     },
     "execution_count": 4,
     "metadata": {},
     "output_type": "execute_result"
    }
   ],
   "source": [
    "def hello(to):\n",
    "  try:\n",
    "    print(\"hello \" + to)\n",
    "    return True #Success\n",
    "  except Exception:\n",
    "    return False #Failure\n",
    "hello(\"world\")"
   ]
  },
  {
   "cell_type": "code",
   "execution_count": 8,
   "id": "1a63394d-8a08-4553-b126-f387e24b4e27",
   "metadata": {},
   "outputs": [
    {
     "name": "stdout",
     "output_type": "stream",
     "text": [
      "28\n"
     ]
    }
   ],
   "source": [
    "def mul(x,y):\n",
    "  return x*y\n",
    "z=mul(7,4); print(z)"
   ]
  },
  {
   "cell_type": "code",
   "execution_count": 6,
   "id": "89c21b72-d894-4cb0-bc83-8fc2802e1598",
   "metadata": {},
   "outputs": [
    {
     "name": "stdout",
     "output_type": "stream",
     "text": [
      "Failed: Division by zero\n"
     ]
    }
   ],
   "source": [
    "def divide(a, b):\n",
    "  if b==0:\n",
    "    raise ValueError(\"Division by zero\")\n",
    "  return a / b\n",
    "\n",
    "try:\n",
    "  result = divide(10, 0)\n",
    "except ValueError as e:\n",
    "  print(\"Failed:\", e)"
   ]
  },
  {
   "cell_type": "code",
   "execution_count": 9,
   "id": "e9326e50-7a0a-4b81-94f2-a6d0a5eb607f",
   "metadata": {},
   "outputs": [],
   "source": [
    "def do_nothing():\n",
    "  pass\n",
    "do_nothing()"
   ]
  },
  {
   "cell_type": "code",
   "execution_count": 10,
   "id": "f25c5796-b7b4-4e11-821d-411565f421ec",
   "metadata": {},
   "outputs": [
    {
     "name": "stdout",
     "output_type": "stream",
     "text": [
      "Basta!!!!!!\n"
     ]
    }
   ],
   "source": [
    "def shout(word):\n",
    "    \"\"\"\n",
    "    Print a word with an exclamation mark\n",
    "\n",
    "    Parameters\n",
    "    ----------\n",
    "    word : string\n",
    "        Word to be shouted.\n",
    "\n",
    "    Returns\n",
    "    -------\n",
    "    The shouted word.\n",
    "\n",
    "    \"\"\"\n",
    "    return word + \"!!!!!!\"\n",
    "\n",
    "shout(\"Basta\")\n",
    "print(shout(\"Basta\"))"
   ]
  },
  {
   "cell_type": "code",
   "execution_count": 12,
   "id": "caec0ea9-360d-475a-b5ff-ad33eaf181c9",
   "metadata": {},
   "outputs": [
    {
     "name": "stdout",
     "output_type": "stream",
     "text": [
      "<class 'function'>\n",
      "28\n",
      "28\n",
      "<class 'int'>\n",
      "28\n",
      "<class 'int'>\n",
      "28\n"
     ]
    }
   ],
   "source": [
    "def mult(x,y):\n",
    "  return x*y\n",
    "  print(\"eeeeeeeeeeoooooooooooooo\")\n",
    "#  \n",
    "mult_func=mult    ;print(type(mult_func))\n",
    "#\n",
    "a,b=4,7\n",
    "c=mult(a,b)       ;print(c)\n",
    "d=mult_func(a,b)  ;print(d)"
   ]
  },
  {
   "cell_type": "code",
   "execution_count": 15,
   "id": "5642dcfa-9e34-4049-8f08-6cfcb2e6d5de",
   "metadata": {},
   "outputs": [
    {
     "name": "stdout",
     "output_type": "stream",
     "text": [
      "z =  11\n",
      "z =  11\n"
     ]
    }
   ],
   "source": [
    "# return is the LAST thing done into the function\n",
    "def add(x, y):\n",
    "  return x+y\n",
    "  print(\"eeeeeeeeeeoooooooooooooo\")\n",
    "z = add(7,4); print(\"z = \", z)\n",
    "\n",
    "def add(x, y):\n",
    "  return x+y\n",
    "z=add(7,4); print(\"z = \", z)"
   ]
  },
  {
   "cell_type": "code",
   "execution_count": null,
   "id": "e70a90ca-d213-4208-98ab-1efb0c5362f2",
   "metadata": {},
   "outputs": [],
   "source": []
  }
 ],
 "metadata": {
  "kernelspec": {
   "display_name": "Python [conda env:base] *",
   "language": "python",
   "name": "conda-base-py"
  },
  "language_info": {
   "codemirror_mode": {
    "name": "ipython",
    "version": 3
   },
   "file_extension": ".py",
   "mimetype": "text/x-python",
   "name": "python",
   "nbconvert_exporter": "python",
   "pygments_lexer": "ipython3",
   "version": "3.12.7"
  }
 },
 "nbformat": 4,
 "nbformat_minor": 5
}
