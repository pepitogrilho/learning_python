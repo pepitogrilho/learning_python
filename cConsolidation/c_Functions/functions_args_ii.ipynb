{
 "cells": [
  {
   "cell_type": "code",
   "execution_count": 31,
   "id": "27283b5f-736a-4831-b356-556cc0588793",
   "metadata": {},
   "outputs": [
    {
     "name": "stdout",
     "output_type": "stream",
     "text": [
      "type(x)=<class 'int'>//x=3\n",
      "type(y)=<class 'int'>//y=5\n",
      "8\n",
      "type(x)=<class 'int'>//x=3\n",
      "type(y)=<class 'int'>//y=5\n",
      "8\n",
      "type(x)=<class 'str'>//x=x\n",
      "type(y)=<class 'str'>//y=y\n",
      "xy\n",
      "type(x)=<class 'int'>//x=3\n",
      "type(y)=<class 'int'>//y=5\n",
      "8\n"
     ]
    }
   ],
   "source": [
    "#passing parameters from a TUPLE & LIST\n",
    "def add(x, y):\n",
    "  print(f\"type(x)={type(x)}//x={x}\")\n",
    "  print(f\"type(y)={type(y)}//y={y}\")\n",
    "  return x+y\n",
    "nums=(3,5); print(add(*nums))          #TUPLE*\n",
    "nums=[3,5]; print(add(*nums))          #LIST*\n",
    "nums={'x':3,'y':5}; print(add(*nums))  #DICT*\n",
    "nums={'x':3,'y':5}; print(add(**nums)) #DICT**"
   ]
  },
  {
   "cell_type": "code",
   "execution_count": 33,
   "id": "b2861aed-0771-46a0-9399-86839a70f62b",
   "metadata": {},
   "outputs": [
    {
     "name": "stdout",
     "output_type": "stream",
     "text": [
      "type(args)=<class 'tuple'>//args=(3, 5)\n",
      "8\n",
      "type(args)=<class 'tuple'>//args=(3, 5)\n",
      "8\n",
      "type(kwargs)=<class 'dict'>//kwargs={'x': 3, 'y': 5}\n",
      "8\n"
     ]
    }
   ],
   "source": [
    "#Now, even when we pass a LIST, it is received as a TUPLE\n",
    "def add(*args):\n",
    "  print(f\"type(args)={type(args)}//args={args}\")\n",
    "  return args[0]+args[1]\n",
    "nums=(3,5); print(add(*nums))          #TUPLE*\n",
    "nums=[3,5]; print(add(*nums))          #LIST*"
   ]
  },
  {
   "cell_type": "code",
   "execution_count": 1,
   "id": "1deb5eab-f7da-4eb1-91c7-ab08d0336d2e",
   "metadata": {},
   "outputs": [
    {
     "name": "stdout",
     "output_type": "stream",
     "text": [
      "type(kwargs)=<class 'dict'>//kwargs={'x': 3, 'y': 5}\n",
      "8\n"
     ]
    }
   ],
   "source": [
    "#Now, we pass a LIST, and this time is received as a LIST\n",
    "def add(**kwargs):\n",
    "  print(f\"type(kwargs)={type(kwargs)}//kwargs={kwargs}\")\n",
    "  return kwargs['x']+kwargs['y']\n",
    "nums={'x':3,'y':5}; print(add(**nums)) #DICT**"
   ]
  },
  {
   "cell_type": "code",
   "execution_count": 2,
   "id": "125b7b4e-92e4-403c-8ce3-ed64e6298d71",
   "metadata": {},
   "outputs": [
    {
     "name": "stdout",
     "output_type": "stream",
     "text": [
      "<class 'tuple'>\n",
      "x = 3\n",
      "y = 5\n",
      "<class 'tuple'>\n",
      "x = 3\n",
      "y = 5\n"
     ]
    }
   ],
   "source": [
    "#Now, even when we pass a LIST, it is received as a TUPLE\n",
    "def test(*args):\n",
    "  print(type(args))\n",
    "  print(f\"x = {args[0]}\")\n",
    "  print(f\"y = {args[1]}\")\n",
    "nums=(3,5); test(*nums)\n",
    "nums=[3,5]; test(*nums)"
   ]
  },
  {
   "cell_type": "code",
   "execution_count": 3,
   "id": "a29d4ec3-786a-47cd-b634-f8ee7f5605b6",
   "metadata": {},
   "outputs": [
    {
     "name": "stdout",
     "output_type": "stream",
     "text": [
      "<class 'dict'>\n",
      "x = 3\n",
      "y = 5\n"
     ]
    }
   ],
   "source": [
    "#passing parameters from a DICT : >**< + we get a DICT\n",
    "def test(**kwargs):\n",
    "  print(type(kwargs))\n",
    "  print(f\"x = {kwargs['x']}\")\n",
    "  print(f\"y = {kwargs['y']}\")\n",
    "nums={\"x\":3, \"y\":5}\n",
    "test(**nums)"
   ]
  },
  {
   "cell_type": "code",
   "execution_count": 4,
   "id": "f6d1fe99-d50c-44f9-8abe-43fc2d032176",
   "metadata": {},
   "outputs": [
    {
     "name": "stdout",
     "output_type": "stream",
     "text": [
      "(1, 2, 3)\n",
      "{'x': 1, 'y': 2}\n"
     ]
    }
   ],
   "source": [
    "def both_tuple_dict(*args, **kwargs):\n",
    "    print(args)\n",
    "    print(kwargs)\n",
    "    \n",
    "both_tuple_dict(1,2,3, x=1, y=2)"
   ]
  },
  {
   "cell_type": "code",
   "execution_count": null,
   "id": "4f60d64e-3fca-4231-ae0b-753209c63251",
   "metadata": {},
   "outputs": [],
   "source": []
  }
 ],
 "metadata": {
  "kernelspec": {
   "display_name": "Python [conda env:base] *",
   "language": "python",
   "name": "conda-base-py"
  },
  "language_info": {
   "codemirror_mode": {
    "name": "ipython",
    "version": 3
   },
   "file_extension": ".py",
   "mimetype": "text/x-python",
   "name": "python",
   "nbconvert_exporter": "python",
   "pygments_lexer": "ipython3",
   "version": "3.12.7"
  }
 },
 "nbformat": 4,
 "nbformat_minor": 5
}
