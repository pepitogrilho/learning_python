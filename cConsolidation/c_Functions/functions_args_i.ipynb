{
 "cells": [
  {
   "cell_type": "code",
   "execution_count": 1,
   "id": "5642dcfa-9e34-4049-8f08-6cfcb2e6d5de",
   "metadata": {},
   "outputs": [
    {
     "name": "stdout",
     "output_type": "stream",
     "text": [
      "3\n",
      "3\n",
      "3\n"
     ]
    }
   ],
   "source": [
    "#POSITIONAL: parameter takes the arguments value depending on their POSITION\n",
    "def suma(x,y):\n",
    "  return x+y\n",
    "z=suma(1,2)\n",
    "print(z)\n",
    "#KEYWORD(named): parametere takes the arguments value depending on the KEYWORD(named) ARGUMENTS\n",
    "def suma(x,y):\n",
    "  return x+y\n",
    "z=suma(y=2, x=1)\n",
    "print(z)\n",
    "# POSITIONAL + KEYWORD: in 1st place POSITIONAL\n",
    "def suma(x,y):\n",
    "  return x+y\n",
    "#this works....................\n",
    "z=suma(1,y=2)\n",
    "print(z)\n",
    "#this does not work............\n",
    "#z=suma(x=1,2)"
   ]
  },
  {
   "cell_type": "code",
   "execution_count": 2,
   "id": "e70a90ca-d213-4208-98ab-1efb0c5362f2",
   "metadata": {},
   "outputs": [
    {
     "name": "stdout",
     "output_type": "stream",
     "text": [
      "1\n",
      "3\n"
     ]
    }
   ],
   "source": [
    "# 'x' is required but 'y' has default value if not passed\n",
    "# in 1st place REQUIERED, after DEFAULT\n",
    "def suma(x,y=0):\n",
    "  return x+y\n",
    "print(suma(x=1,))\n",
    "print(suma(x=1,y=2))"
   ]
  },
  {
   "cell_type": "code",
   "execution_count": 3,
   "id": "34cda06a-1fcb-44e2-adb3-0fa719674b50",
   "metadata": {},
   "outputs": [
    {
     "name": "stdout",
     "output_type": "stream",
     "text": [
      "p_name = line\n",
      "<class 'tuple'>\n",
      "(1,)\n",
      "[1]\n",
      "p_name = plane\n",
      "<class 'tuple'>\n",
      "(1, 2)\n",
      "[1, 2]\n",
      "p_name = cube\n",
      "<class 'tuple'>\n",
      "(1, 2, 3)\n",
      "[1, 2, 3]\n"
     ]
    }
   ],
   "source": [
    "#The variable number of parameters are a TUPLE\n",
    "def vector(name, *args):\n",
    "  p_name = name                 ; print(f\"p_name = {p_name}\")\n",
    "  print(type(args))             ; print(args)\n",
    "  ps = [arg for arg in args]    ; print(ps)\n",
    "vector1dim=vector(\"line\",1)\n",
    "vector2dim=vector(\"plane\",1,2)\n",
    "vector3dim=vector(\"cube\",1,2,3)"
   ]
  },
  {
   "cell_type": "code",
   "execution_count": 4,
   "id": "d71c8459-7082-4309-8f14-ab90950ce484",
   "metadata": {},
   "outputs": [
    {
     "name": "stdout",
     "output_type": "stream",
     "text": [
      "<class 'tuple'>\n",
      "8\n"
     ]
    }
   ],
   "source": [
    "# getting a TUPLE\n",
    "def add(*args):\n",
    "  print(type(args))\n",
    "  o=0\n",
    "  for i in args:\n",
    "      o+=i\n",
    "  return o\n",
    "print(add(3,5))"
   ]
  },
  {
   "cell_type": "code",
   "execution_count": 8,
   "id": "d4fe3f52-db41-4569-8e19-3c5a68df6d61",
   "metadata": {},
   "outputs": [
    {
     "name": "stdout",
     "output_type": "stream",
     "text": [
      "{'x': 3, 'y': 5}\n",
      "<class 'dict'>\n",
      "8\n"
     ]
    }
   ],
   "source": [
    "# getting a DICT. \"kwargs\" = \"KeyWord Arguments\"\n",
    "def add(**kwargs):\n",
    "  print(kwargs)\n",
    "  print(type(kwargs))\n",
    "  o=0\n",
    "  for number in kwargs:\n",
    "      o+=kwargs[number]\n",
    "  return o      \n",
    "print(add(x=3,y=5))"
   ]
  },
  {
   "cell_type": "code",
   "execution_count": null,
   "id": "27283b5f-736a-4831-b356-556cc0588793",
   "metadata": {},
   "outputs": [],
   "source": []
  }
 ],
 "metadata": {
  "kernelspec": {
   "display_name": "Python [conda env:base] *",
   "language": "python",
   "name": "conda-base-py"
  },
  "language_info": {
   "codemirror_mode": {
    "name": "ipython",
    "version": 3
   },
   "file_extension": ".py",
   "mimetype": "text/x-python",
   "name": "python",
   "nbconvert_exporter": "python",
   "pygments_lexer": "ipython3",
   "version": "3.12.7"
  }
 },
 "nbformat": 4,
 "nbformat_minor": 5
}
