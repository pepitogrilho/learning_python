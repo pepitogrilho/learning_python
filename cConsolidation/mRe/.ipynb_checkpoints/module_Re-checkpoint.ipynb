{
 "cells": [
  {
   "cell_type": "code",
   "execution_count": 1,
   "id": "a4f4c45e-92d2-46a8-876b-c3e8f89733d7",
   "metadata": {},
   "outputs": [],
   "source": [
    "import re"
   ]
  },
  {
   "cell_type": "code",
   "execution_count": 14,
   "id": "a49f0512-c738-423b-8018-774f0d65dc7a",
   "metadata": {},
   "outputs": [],
   "source": [
    "#. = any character\n",
    "#\\d = digit\n",
    "#\\w = letter/number/underscore\n",
    "#* = 0 or more times\n",
    "#+ = 1 or more times\n",
    "#^ = start of string\n",
    "#$ = end of string\n",
    "#[...] = any one character in the brackets"
   ]
  },
  {
   "cell_type": "code",
   "execution_count": 10,
   "id": "94bc5e8c-2dc3-4d60-830c-cdf64223480a",
   "metadata": {},
   "outputs": [
    {
     "name": "stdout",
     "output_type": "stream",
     "text": [
      "<re.Match object; span=(8, 11), match='cat'>\n",
      "cat\n",
      "(8, 11) 8 11\n",
      "A black cat\n"
     ]
    }
   ],
   "source": [
    "#Search a pattern\n",
    "result = re.search(r\"cat\", \"A black cat\")\n",
    "print(result)              # Match object if found, None otherwise\n",
    "print(result.group()) \n",
    "print(result.span(), result.start(), result.end())\n",
    "print(result.string)"
   ]
  },
  {
   "cell_type": "code",
   "execution_count": 11,
   "id": "78a3a6e5-fc6b-4ff5-a506-2007f6d1340c",
   "metadata": {},
   "outputs": [
    {
     "data": {
      "text/plain": [
       "['3', '5']"
      ]
     },
     "execution_count": 11,
     "metadata": {},
     "output_type": "execute_result"
    }
   ],
   "source": [
    "#Find all numbers\n",
    "re.findall(r\"\\d\", \"There are 3 cats and 5 dogs\")"
   ]
  },
  {
   "cell_type": "code",
   "execution_count": 12,
   "id": "e93d344f-dcf7-4ab9-b9a3-4a67c56f1fc0",
   "metadata": {},
   "outputs": [
    {
     "data": {
      "text/plain": [
       "'Room # and #'"
      ]
     },
     "execution_count": 12,
     "metadata": {},
     "output_type": "execute_result"
    }
   ],
   "source": [
    "#Substitute text\n",
    "re.sub(r\"\\d+\", \"#\", \"Room 12 and 34\")  "
   ]
  },
  {
   "cell_type": "code",
   "execution_count": 13,
   "id": "f8a368a4-9224-4959-9d3b-a05747913c06",
   "metadata": {},
   "outputs": [
    {
     "data": {
      "text/plain": [
       "['split', 'by', 'spaces']"
      ]
     },
     "execution_count": 13,
     "metadata": {},
     "output_type": "execute_result"
    }
   ],
   "source": [
    "# Split by pattern\n",
    "re.split(r\"\\s+\", \"split   by   spaces\")\n",
    "# Output: ['split', 'by', 'spaces']"
   ]
  },
  {
   "cell_type": "code",
   "execution_count": 15,
   "id": "0ad00459-ac78-4a74-a71e-3af2d97285ed",
   "metadata": {},
   "outputs": [
    {
     "data": {
      "text/plain": [
       "<re.Match object; span=(0, 3), match='123'>"
      ]
     },
     "execution_count": 15,
     "metadata": {},
     "output_type": "execute_result"
    }
   ],
   "source": [
    "re.match(r\"^\\d{3}$\", \"123\")  # Matches exactly 3 digits"
   ]
  },
  {
   "cell_type": "code",
   "execution_count": null,
   "id": "89d6ca94-9d53-4454-90bb-359a2d50d11a",
   "metadata": {},
   "outputs": [],
   "source": []
  }
 ],
 "metadata": {
  "kernelspec": {
   "display_name": "Python [conda env:base] *",
   "language": "python",
   "name": "conda-base-py"
  },
  "language_info": {
   "codemirror_mode": {
    "name": "ipython",
    "version": 3
   },
   "file_extension": ".py",
   "mimetype": "text/x-python",
   "name": "python",
   "nbconvert_exporter": "python",
   "pygments_lexer": "ipython3",
   "version": "3.12.7"
  }
 },
 "nbformat": 4,
 "nbformat_minor": 5
}
