{
 "cells": [
  {
   "cell_type": "code",
   "execution_count": 1,
   "id": "a4f4c45e-92d2-46a8-876b-c3e8f89733d7",
   "metadata": {},
   "outputs": [],
   "source": [
    "import re"
   ]
  },
  {
   "cell_type": "code",
   "execution_count": 14,
   "id": "a49f0512-c738-423b-8018-774f0d65dc7a",
   "metadata": {},
   "outputs": [],
   "source": [
    "#. = any character\n",
    "#\\d = digit\n",
    "#\\w = letter/number/underscore\n",
    "#* = 0 or more times\n",
    "#+ = 1 or more times\n",
    "#^ = start of string\n",
    "#$ = end of string\n",
    "#[...] = any one character in the brackets"
   ]
  },
  {
   "cell_type": "code",
   "execution_count": 2,
   "id": "203f3ad1-78b7-4156-b1b0-20b1a0426e9b",
   "metadata": {},
   "outputs": [
    {
     "name": "stdout",
     "output_type": "stream",
     "text": [
      "the pattern >gr.y< matches with the string >grey<\n",
      "the pattern >gr.y< matches with the string >groy<\n"
     ]
    }
   ],
   "source": [
    "# \".\" > one single character\n",
    "pattern = r\"gr.y\"\n",
    "test_string = \"grey\"\n",
    "if re.match(pattern, test_string):\n",
    "    print(r\"the pattern >\"+pattern+\"< matches with the string >\"+test_string+\"<\")   \n",
    "test_string = \"groy\"\n",
    "if re.match(pattern, test_string):\n",
    "    print(r\"the pattern >\"+pattern+\"< matches with the string >\"+test_string+\"<\")"
   ]
  },
  {
   "cell_type": "code",
   "execution_count": 3,
   "id": "e5f74920-a94e-4d5e-99c5-9f4fd82accdd",
   "metadata": {},
   "outputs": [
    {
     "name": "stdout",
     "output_type": "stream",
     "text": [
      "the pattern >^g...< matches with the string >grey<\n"
     ]
    }
   ],
   "source": [
    "# \"^\" > first character\n",
    "pattern = r\"^g...\"\n",
    "test_string = \"grey\"\n",
    "if re.match(pattern, test_string):\n",
    "    print(r\"the pattern >\"+pattern+\"< matches with the string >\"+test_string+\"<\")"
   ]
  },
  {
   "cell_type": "code",
   "execution_count": 4,
   "id": "39543ec8-7b40-4b0d-937b-b27594499dff",
   "metadata": {},
   "outputs": [
    {
     "name": "stdout",
     "output_type": "stream",
     "text": [
      "the pattern >...y$< matches with the string >grey<\n"
     ]
    }
   ],
   "source": [
    "# \"$\" > last character\n",
    "pattern = r\"...y$\"\n",
    "test_string = \"grey\"\n",
    "if re.match(pattern, test_string):\n",
    "    print(r\"the pattern >\"+pattern+\"< matches with the string >\"+test_string+\"<\")"
   ]
  },
  {
   "cell_type": "code",
   "execution_count": 8,
   "id": "975b38df-bded-4493-bbe7-bd6008447f49",
   "metadata": {},
   "outputs": [
    {
     "name": "stdout",
     "output_type": "stream",
     "text": [
      "the pattern >[aeiou]< is found (search) in the string >grey<\n",
      "the pattern >[aiou]< is NOT found (search) in the string >grey<\n",
      "the pattern >gr[aeiou]y< matches with the string >groy<\n"
     ]
    }
   ],
   "source": [
    "# \"[aeiou]\" > one single character\n",
    "test_string = \"grey\"\n",
    "pattern = r\"[aeiou]\"\n",
    "if re.search(pattern, test_string):\n",
    "    print(r\"the pattern >\"+pattern+\"< is found (search) in the string >\"+test_string+\"<\")\n",
    "pattern = r\"[aiou]\"\n",
    "if re.search(pattern, test_string):\n",
    "    print(r\"the pattern >\"+pattern+\"< is found (search) in the string >\"+test_string+\"<\")\n",
    "else:\n",
    "    print(r\"the pattern >\"+pattern+\"< is NOT found (search) in the string >\"+test_string+\"<\")\n",
    "pattern = r\"gr[aeiou]y\"\n",
    "test_string = \"groy\"\n",
    "if re.match(pattern, test_string):\n",
    "    print(r\"the pattern >\"+pattern+\"< matches with the string >\"+test_string+\"<\")"
   ]
  },
  {
   "cell_type": "code",
   "execution_count": 9,
   "id": "98a9f543-a3fa-43db-9b8a-cb04df3a558f",
   "metadata": {},
   "outputs": [
    {
     "name": "stdout",
     "output_type": "stream",
     "text": [
      "the pattern >@[a-z]@< matches with the string >@x@<\n"
     ]
    }
   ],
   "source": [
    "# \"[a-z]\" > lower case\n",
    "pattern = r\"@[a-z]@\"\n",
    "test_string = \"@x@\"\n",
    "if re.match(pattern, test_string):\n",
    "    print(r\"the pattern >\"+pattern+\"< matches with the string >\"+test_string+\"<\")"
   ]
  },
  {
   "cell_type": "code",
   "execution_count": 10,
   "id": "81bc5d9b-05ad-46a2-b679-bf376cc3f2e9",
   "metadata": {},
   "outputs": [
    {
     "name": "stdout",
     "output_type": "stream",
     "text": [
      "the pattern >@[A-Z]@< matches with the string >@X@<\n"
     ]
    }
   ],
   "source": [
    "# \"[A-Z]\" > upper case\n",
    "pattern = r\"@[A-Z]@\"\n",
    "test_string = \"@X@\"\n",
    "if re.match(pattern, test_string):\n",
    "    print(r\"the pattern >\"+pattern+\"< matches with the string >\"+test_string+\"<\")"
   ]
  },
  {
   "cell_type": "code",
   "execution_count": 11,
   "id": "2bb850ab-7926-4191-984e-a4ea482b0f94",
   "metadata": {},
   "outputs": [
    {
     "name": "stdout",
     "output_type": "stream",
     "text": [
      "the pattern >@[a-zA-Z]@< matches with the string >@X@<\n",
      "the pattern >@[a-zA-Z]@< matches with the string >@x@<\n"
     ]
    }
   ],
   "source": [
    "# \"[a-zA-Z]\" > upper case\n",
    "pattern = r\"@[a-zA-Z]@\"\n",
    "test_string = \"@X@\"\n",
    "if re.match(pattern, test_string):\n",
    "    print(r\"the pattern >\"+pattern+\"< matches with the string >\"+test_string+\"<\")\n",
    "test_string = \"@x@\"\n",
    "if re.match(pattern, test_string):\n",
    "    print(r\"the pattern >\"+pattern+\"< matches with the string >\"+test_string+\"<\")"
   ]
  },
  {
   "cell_type": "code",
   "execution_count": 12,
   "id": "2cb15765-9243-4eae-ab17-3a5aa5ea27dd",
   "metadata": {},
   "outputs": [
    {
     "name": "stdout",
     "output_type": "stream",
     "text": [
      "the pattern >@[0-9]@< matches with the string >@3@<\n"
     ]
    }
   ],
   "source": [
    "# \"[0-9]\" > number\n",
    "pattern = r\"@[0-9]@\"\n",
    "test_string = \"@3@\"\n",
    "if re.match(pattern, test_string):\n",
    "    print(r\"the pattern >\"+pattern+\"< matches with the string >\"+test_string+\"<\")"
   ]
  },
  {
   "cell_type": "code",
   "execution_count": 13,
   "id": "92c3f6d8-4573-4ad9-b88d-552a1d32b687",
   "metadata": {},
   "outputs": [
    {
     "name": "stdout",
     "output_type": "stream",
     "text": [
      "the pattern >@[^0-9]@< matches with the string >@x@<\n"
     ]
    }
   ],
   "source": [
    "# \"[^0-9]\" > number (^is like \"not\") > \"characters different to \"0-9\"\n",
    "pattern = r\"@[^0-9]@\"\n",
    "test_string = \"@3@\"\n",
    "if re.match(pattern, test_string):\n",
    "    print(r\"the pattern >\"+pattern+\"< matches with the string >\"+test_string+\"<\")\n",
    "test_string = \"@x@\"\n",
    "if re.match(pattern, test_string):\n",
    "    print(r\"the pattern >\"+pattern+\"< matches with the string >\"+test_string+\"<\")"
   ]
  },
  {
   "cell_type": "code",
   "execution_count": null,
   "id": "38daf318-5046-4d33-9e18-1e330db3fb94",
   "metadata": {},
   "outputs": [],
   "source": []
  }
 ],
 "metadata": {
  "kernelspec": {
   "display_name": "Python [conda env:base] *",
   "language": "python",
   "name": "conda-base-py"
  },
  "language_info": {
   "codemirror_mode": {
    "name": "ipython",
    "version": 3
   },
   "file_extension": ".py",
   "mimetype": "text/x-python",
   "name": "python",
   "nbconvert_exporter": "python",
   "pygments_lexer": "ipython3",
   "version": "3.12.7"
  }
 },
 "nbformat": 4,
 "nbformat_minor": 5
}
