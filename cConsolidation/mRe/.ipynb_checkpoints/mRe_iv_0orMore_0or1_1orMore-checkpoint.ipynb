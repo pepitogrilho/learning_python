{
 "cells": [
  {
   "cell_type": "code",
   "execution_count": 5,
   "id": "a4f4c45e-92d2-46a8-876b-c3e8f89733d7",
   "metadata": {},
   "outputs": [],
   "source": [
    "import re"
   ]
  },
  {
   "cell_type": "code",
   "execution_count": 14,
   "id": "a49f0512-c738-423b-8018-774f0d65dc7a",
   "metadata": {},
   "outputs": [],
   "source": [
    "#. = any character\n",
    "#\\d = digit\n",
    "#\\w = letter/number/underscore\n",
    "#* = 0 or more times\n",
    "#+ = 1 or more times\n",
    "#^ = start of string\n",
    "#$ = end of string\n",
    "#[...] = any one character in the brackets\n",
    "#* = 0 or more repetitions of the previous \"thing\"\n",
    "#? = 0 or 1 repetitions \n",
    "#+ = 1 or more repetitions of the previous \"thing\"\n",
    "#{ and \"}\" = number of repetitions"
   ]
  },
  {
   "cell_type": "code",
   "execution_count": 20,
   "id": "38daf318-5046-4d33-9e18-1e330db3fb94",
   "metadata": {},
   "outputs": [
    {
     "name": "stdout",
     "output_type": "stream",
     "text": [
      "<re.Match object; span=(0, 3), match='egg'>\n",
      "<re.Match object; span=(0, 7), match='eggspam'>\n",
      "<re.Match object; span=(0, 11), match='eggspamspam'>\n"
     ]
    }
   ],
   "source": [
    "# \"(thing)*\" > ZERO or more prepetitions of \"thing\"\n",
    "pattern = r\"egg(spam)*\"\n",
    "print(re.fullmatch(pattern, \"egg\"))          \n",
    "print(re.fullmatch(pattern, \"eggspam\"))      \n",
    "print(re.fullmatch(pattern, \"eggspamspam\")) "
   ]
  },
  {
   "cell_type": "code",
   "execution_count": 19,
   "id": "b5d79500-d099-4e51-89a3-7911743caef2",
   "metadata": {},
   "outputs": [
    {
     "name": "stdout",
     "output_type": "stream",
     "text": [
      "<re.Match object; span=(0, 3), match='egg'>\n",
      "<re.Match object; span=(0, 7), match='eggspam'>\n",
      "None\n"
     ]
    }
   ],
   "source": [
    "# \"(thing)?\" > ZERO or ONE prepetitions of \"thing\"\n",
    "pattern = r\"egg(spam)?\"\n",
    "print(re.fullmatch(pattern, \"egg\"))          \n",
    "print(re.fullmatch(pattern, \"eggspam\"))      \n",
    "print(re.fullmatch(pattern, \"eggspamspam\")) "
   ]
  },
  {
   "cell_type": "code",
   "execution_count": 18,
   "id": "fb8a05cf-9206-4309-aede-9c17ff51682b",
   "metadata": {},
   "outputs": [
    {
     "name": "stdout",
     "output_type": "stream",
     "text": [
      "None\n",
      "<re.Match object; span=(0, 7), match='eggspam'>\n",
      "<re.Match object; span=(0, 11), match='eggspamspam'>\n"
     ]
    }
   ],
   "source": [
    "# \"(thing)+\" > ONE or more prepetitions of \"thing\"\n",
    "pattern = r\"egg(spam)+\"\n",
    "print(re.fullmatch(pattern, \"egg\"))          \n",
    "print(re.fullmatch(pattern, \"eggspam\"))      \n",
    "print(re.fullmatch(pattern, \"eggspamspam\")) "
   ]
  },
  {
   "cell_type": "code",
   "execution_count": 26,
   "id": "7782838b-4833-460b-8296-01b083c15085",
   "metadata": {},
   "outputs": [
    {
     "name": "stdout",
     "output_type": "stream",
     "text": [
      "None\n",
      "<re.Match object; span=(0, 1), match='9'>\n",
      "<re.Match object; span=(0, 2), match='99'>\n",
      "<re.Match object; span=(0, 3), match='999'>\n",
      "None\n"
     ]
    }
   ],
   "source": [
    "# \"{}\" > number of repetitions\n",
    "pattern = r\"^9{1,3}$\"\n",
    "print(re.fullmatch(pattern, \"8\"))         \n",
    "print(re.fullmatch(pattern, \"9\"))        \n",
    "print(re.fullmatch(pattern, \"99\"))       \n",
    "print(re.fullmatch(pattern, \"999\"))     \n",
    "print(re.fullmatch(pattern, \"9999\"))     "
   ]
  },
  {
   "cell_type": "code",
   "execution_count": null,
   "id": "3e388f23-2ecf-4633-9638-67c14b7c8f31",
   "metadata": {},
   "outputs": [],
   "source": []
  }
 ],
 "metadata": {
  "kernelspec": {
   "display_name": "Python [conda env:base] *",
   "language": "python",
   "name": "conda-base-py"
  },
  "language_info": {
   "codemirror_mode": {
    "name": "ipython",
    "version": 3
   },
   "file_extension": ".py",
   "mimetype": "text/x-python",
   "name": "python",
   "nbconvert_exporter": "python",
   "pygments_lexer": "ipython3",
   "version": "3.12.7"
  }
 },
 "nbformat": 4,
 "nbformat_minor": 5
}
