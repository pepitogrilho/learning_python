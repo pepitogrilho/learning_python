{
 "cells": [
  {
   "cell_type": "code",
   "execution_count": 3,
   "id": "a4f4c45e-92d2-46a8-876b-c3e8f89733d7",
   "metadata": {},
   "outputs": [],
   "source": [
    "import re"
   ]
  },
  {
   "cell_type": "code",
   "execution_count": 14,
   "id": "a49f0512-c738-423b-8018-774f0d65dc7a",
   "metadata": {},
   "outputs": [],
   "source": [
    "#. = any character\n",
    "#\\d = digit\n",
    "#\\w = letter/number/underscore\n",
    "#* = 0 or more times\n",
    "#+ = 1 or more times\n",
    "#^ = start of string\n",
    "#$ = end of string\n",
    "#[...] = any one character in the brackets"
   ]
  },
  {
   "cell_type": "code",
   "execution_count": 1,
   "id": "89d6ca94-9d53-4454-90bb-359a2d50d11a",
   "metadata": {},
   "outputs": [
    {
     "name": "stdout",
     "output_type": "stream",
     "text": [
      "hola$caracola\n"
     ]
    }
   ],
   "source": [
    "# Problem with regex (regular expressions):\n",
    "# For escaping special characters like \"$\" or \" \" \" ...\n",
    "# ... we use \"\\\", but the code is difficult to read\n",
    "# Solution: \"raw string\": r\"hola$caracola\"\n",
    "rawString = r\"hola$caracola\"\n",
    "print(rawString)"
   ]
  },
  {
   "cell_type": "code",
   "execution_count": 4,
   "id": "82cfd6e2-636d-48b8-8a20-d1956d3e449a",
   "metadata": {},
   "outputs": [
    {
     "name": "stdout",
     "output_type": "stream",
     "text": [
      "<re.Match object; span=(0, 4), match='spam'>\n"
     ]
    }
   ],
   "source": [
    "pattern = r\"spam\"\n",
    "print(re.match(pattern, \"spamspamspam\"))"
   ]
  },
  {
   "cell_type": "code",
   "execution_count": 6,
   "id": "e3010fe1-c8ef-46fb-b363-64ce15e340cd",
   "metadata": {},
   "outputs": [
    {
     "name": "stdout",
     "output_type": "stream",
     "text": [
      "None\n",
      "<re.Match object; span=(5, 8), match='pam'>\n"
     ]
    }
   ],
   "source": [
    "pattern = r\"pam\"\n",
    "#match only works in the start of the string: same as search(^...\n",
    "print(re.match(pattern, \"spamspamspam\"))\n",
    "#search is more flexible\n",
    "print(re.search(pattern, \"eggsspamsausagespam\"))"
   ]
  },
  {
   "cell_type": "code",
   "execution_count": 7,
   "id": "be757991-489f-4e8f-b4b7-09028a9e6cfd",
   "metadata": {},
   "outputs": [
    {
     "name": "stdout",
     "output_type": "stream",
     "text": [
      "['pam', 'pam']\n"
     ]
    }
   ],
   "source": [
    "pattern = r\"pam\"\n",
    "print(re.findall(pattern, \"eggsspamsausagespam\"))"
   ]
  },
  {
   "cell_type": "code",
   "execution_count": 11,
   "id": "33056a2b-b945-4921-b95c-ab046778da02",
   "metadata": {},
   "outputs": [
    {
     "name": "stdout",
     "output_type": "stream",
     "text": [
      "match.group()=pam\n",
      "match.start()=4\n",
      "match.end()=7\n",
      "match.span()=(4, 7)\n"
     ]
    }
   ],
   "source": [
    "pattern = r\"pam\"\n",
    "match = re.search(pattern, \"eggspamsausage\")\n",
    "if match:\n",
    "   print(f\"match.group()={match.group()}\")\n",
    "   print(f\"match.start()={match.start()}\")\n",
    "   print(f\"match.end()={match.end()}\")\n",
    "   print(f\"match.span()={match.span()}\")"
   ]
  },
  {
   "cell_type": "code",
   "execution_count": 12,
   "id": "8459dc85-5001-46c6-9867-e1f3bba244b5",
   "metadata": {},
   "outputs": [
    {
     "name": "stdout",
     "output_type": "stream",
     "text": [
      "My name is Amy. Hi Amy.\n"
     ]
    }
   ],
   "source": [
    "str = \"My name is David. Hi David.\"\n",
    "pattern = r\"David\"\n",
    "newstr = re.sub(pattern, \"Amy\", str)\n",
    "print(newstr)"
   ]
  },
  {
   "cell_type": "code",
   "execution_count": null,
   "id": "203f3ad1-78b7-4156-b1b0-20b1a0426e9b",
   "metadata": {},
   "outputs": [],
   "source": []
  }
 ],
 "metadata": {
  "kernelspec": {
   "display_name": "Python [conda env:base] *",
   "language": "python",
   "name": "conda-base-py"
  },
  "language_info": {
   "codemirror_mode": {
    "name": "ipython",
    "version": 3
   },
   "file_extension": ".py",
   "mimetype": "text/x-python",
   "name": "python",
   "nbconvert_exporter": "python",
   "pygments_lexer": "ipython3",
   "version": "3.12.7"
  }
 },
 "nbformat": 4,
 "nbformat_minor": 5
}
