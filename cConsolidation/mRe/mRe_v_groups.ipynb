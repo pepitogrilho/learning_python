{
 "cells": [
  {
   "cell_type": "code",
   "execution_count": 2,
   "id": "a4f4c45e-92d2-46a8-876b-c3e8f89733d7",
   "metadata": {},
   "outputs": [],
   "source": [
    "import re"
   ]
  },
  {
   "cell_type": "code",
   "execution_count": 14,
   "id": "a49f0512-c738-423b-8018-774f0d65dc7a",
   "metadata": {},
   "outputs": [],
   "source": [
    "#. = any character\n",
    "#\\d = digit\n",
    "#\\w = letter/number/underscore\n",
    "#* = 0 or more times\n",
    "#+ = 1 or more times\n",
    "#^ = start of string\n",
    "#$ = end of string\n",
    "#[...] = any one character in the brackets\n",
    "#* = 0 or more repetitions of the previous \"thing\"\n",
    "#? = 0 or 1 repetitions \n",
    "#+ = 1 or more repetitions of the previous \"thing\"\n",
    "#{ and \"}\" = number of repetitions"
   ]
  },
  {
   "cell_type": "code",
   "execution_count": 4,
   "id": "3e388f23-2ecf-4633-9638-67c14b7c8f31",
   "metadata": {},
   "outputs": [
    {
     "name": "stdout",
     "output_type": "stream",
     "text": [
      "Full match: abcd\n",
      "Group 1: ab\n",
      "Group 2: cd\n",
      "All groups: ('ab', 'cd')\n"
     ]
    }
   ],
   "source": [
    "pattern = r\"(ab)(cd)\"\n",
    "test_string = \"abcd\"\n",
    "match = re.match(pattern, test_string)\n",
    "if match:\n",
    "    print(\"Full match:\", match.group(0))   # entire match\n",
    "    print(\"Group 1:\", match.group(1))      # 'ab'\n",
    "    print(\"Group 2:\", match.group(2))      # 'cd'\n",
    "    print(\"All groups:\", match.groups())   # ('ab', 'cd')"
   ]
  },
  {
   "cell_type": "code",
   "execution_count": 6,
   "id": "e7c1a7d7-f838-4ca6-8093-032b36ffc782",
   "metadata": {},
   "outputs": [],
   "source": [
    "pattern = r\"(ab)(cd)\"\n",
    "test_string = \"cd\"\n",
    "match = re.match(pattern, test_string)\n",
    "if match:\n",
    "    print(\"Full match:\", match.group(0))   # entire match\n",
    "    print(\"Group 1:\", match.group(1))      # 'ab'\n",
    "    print(\"Group 2:\", match.group(2))      # 'cd'\n",
    "    print(\"All groups:\", match.groups())   # ('ab', 'cd')"
   ]
  },
  {
   "cell_type": "code",
   "execution_count": 8,
   "id": "32778ed8-ff0a-4626-aea1-3f6ad3142036",
   "metadata": {},
   "outputs": [
    {
     "name": "stdout",
     "output_type": "stream",
     "text": [
      "Full match: cd\n",
      "Group 1: None\n",
      "Group 2: cd\n",
      "All groups: (None, 'cd')\n"
     ]
    }
   ],
   "source": [
    "pattern = r\"(ab)*(cd)\"\n",
    "test_string = \"cd\"\n",
    "match = re.match(pattern, test_string)\n",
    "if match:\n",
    "    print(\"Full match:\", match.group(0))   # entire match\n",
    "    print(\"Group 1:\", match.group(1))      # 'ab'\n",
    "    print(\"Group 2:\", match.group(2))      # 'cd'\n",
    "    print(\"All groups:\", match.groups())   # ('ab', 'cd')"
   ]
  },
  {
   "cell_type": "code",
   "execution_count": 3,
   "id": "7782838b-4833-460b-8296-01b083c15085",
   "metadata": {
    "collapsed": true,
    "jupyter": {
     "outputs_hidden": true
    }
   },
   "outputs": [
    {
     "name": "stdout",
     "output_type": "stream",
     "text": [
      "abcdefghi\n",
      "abcdefghi\n",
      "bc\n",
      "de\n",
      "fgh\n",
      "g\n",
      "('bc', 'de', 'fgh', 'g')\n"
     ]
    }
   ],
   "source": [
    "pattern = r\"a(bc)(de)(f(g)h)i\"\n",
    "test_string = \"abcdefghijklmnop\"\n",
    "match = re.match(pattern, test_string)\n",
    "if match:\n",
    "    print(match.group())\n",
    "    print(match.group(0))\n",
    "    print(match.group(1))\n",
    "    print(match.group(2))\n",
    "    print(match.group(3))\n",
    "    print(match.group(4))\n",
    "    print(match.groups())"
   ]
  }
 ],
 "metadata": {
  "kernelspec": {
   "display_name": "Python [conda env:base] *",
   "language": "python",
   "name": "conda-base-py"
  },
  "language_info": {
   "codemirror_mode": {
    "name": "ipython",
    "version": 3
   },
   "file_extension": ".py",
   "mimetype": "text/x-python",
   "name": "python",
   "nbconvert_exporter": "python",
   "pygments_lexer": "ipython3",
   "version": "3.12.7"
  }
 },
 "nbformat": 4,
 "nbformat_minor": 5
}
