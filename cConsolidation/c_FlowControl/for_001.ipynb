{
 "cells": [
  {
   "cell_type": "code",
   "execution_count": 3,
   "id": "a2fdc6d5-e5e2-4bd7-9cec-2e52b1ceee9e",
   "metadata": {},
   "outputs": [
    {
     "name": "stdout",
     "output_type": "stream",
     "text": [
      "[0, 1, 2, 3, 4]\n",
      "\n",
      "\n",
      "1@2@3@4@5@\n"
     ]
    }
   ],
   "source": [
    "print(list(range(5)))\n",
    "print(\"\\n\")\n",
    "output=\"\"\n",
    "for i in range(5): \n",
    "  output=output+str(i+1)+\"@\"\n",
    "print(output)"
   ]
  },
  {
   "cell_type": "code",
   "execution_count": 4,
   "id": "ad14cf01-84bd-48b9-8231-56e2cc74968b",
   "metadata": {},
   "outputs": [
    {
     "name": "stdout",
     "output_type": "stream",
     "text": [
      "\n",
      "\n",
      "hello@world@spam@eggs@\n"
     ]
    }
   ],
   "source": [
    "print(\"\\n\")\n",
    "output=\"\"\n",
    "words = [\"hello\", \"world\", \"spam\", \"eggs\"]\n",
    "for word in words:\n",
    "   output += word+\"@\"\n",
    "   \n",
    "print(output)"
   ]
  },
  {
   "cell_type": "code",
   "execution_count": 5,
   "id": "387d7d77-7c25-47fe-8034-d0b4966a9244",
   "metadata": {},
   "outputs": [
    {
     "name": "stdout",
     "output_type": "stream",
     "text": [
      "\n",
      "\n",
      "\" testing for loops \" has  2  Ts\n"
     ]
    }
   ],
   "source": [
    "print(\"\\n\")\n",
    "str=\"testing for loops\"\n",
    "counted_Ts = 0\n",
    "for s in str:\n",
    "   if (s == 't'):\n",
    "     counted_Ts += 1       \n",
    "   \n",
    "print(\"\\\"\", str, \"\\\" has \", counted_Ts, \" Ts\")"
   ]
  },
  {
   "cell_type": "code",
   "execution_count": 12,
   "id": "fd610270-7c45-42d9-b0ca-c67a05cc05ec",
   "metadata": {},
   "outputs": [
    {
     "name": "stdout",
     "output_type": "stream",
     "text": [
      "else...i=9\n",
      "if... i=5\n"
     ]
    }
   ],
   "source": [
    "#The code within else is called if the loop finishes normally\n",
    "#(when a break statement does not cause an exit from the loop)\n",
    "# The loop ends calling the else code\n",
    "for i in range(10):\n",
    "    if i == 999:\n",
    "        print(f\"if... i={i}\")\n",
    "        break\n",
    "else:\n",
    "    print(f\"else...i={i}\")\n",
    "\n",
    "# The loop ends normally (break)\n",
    "for i in range(10):\n",
    "    if i == 5:\n",
    "        print(f\"if... i={i}\")\n",
    "        break\n",
    "else:\n",
    "    print(f\"else...i={i}\")"
   ]
  },
  {
   "cell_type": "code",
   "execution_count": null,
   "id": "ca68c4db-cb32-4241-902d-b03b6a1d67d7",
   "metadata": {},
   "outputs": [],
   "source": []
  }
 ],
 "metadata": {
  "kernelspec": {
   "display_name": "Python [conda env:base] *",
   "language": "python",
   "name": "conda-base-py"
  },
  "language_info": {
   "codemirror_mode": {
    "name": "ipython",
    "version": 3
   },
   "file_extension": ".py",
   "mimetype": "text/x-python",
   "name": "python",
   "nbconvert_exporter": "python",
   "pygments_lexer": "ipython3",
   "version": "3.12.7"
  }
 },
 "nbformat": 4,
 "nbformat_minor": 5
}
