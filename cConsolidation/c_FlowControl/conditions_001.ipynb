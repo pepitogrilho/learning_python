{
 "cells": [
  {
   "cell_type": "code",
   "execution_count": 4,
   "id": "3c39f215-c76f-4d2f-889c-a584aa0443a2",
   "metadata": {},
   "outputs": [
    {
     "name": "stdout",
     "output_type": "stream",
     "text": [
      "True\n",
      "False\n",
      "True\n"
     ]
    }
   ],
   "source": [
    "condit = 1 < 2          ;print(condit) # equals True\n",
    "condit = True == False  ;print(condit)   # equals False\n",
    "condit = True == True  ;print(condit)   # equals False"
   ]
  },
  {
   "cell_type": "code",
   "execution_count": 5,
   "id": "1e38ffa0-d92d-482a-af25-ec7ca4fe3ccd",
   "metadata": {},
   "outputs": [],
   "source": [
    "x = None\n",
    "assert x == None, \"this is the not the Pythonic way to check for None\"\n",
    "assert x is None, \"this is the Pythonic way to check for None\""
   ]
  },
  {
   "cell_type": "code",
   "execution_count": 9,
   "id": "aae9c735-b83d-4ce6-a776-67ccfff1a2c8",
   "metadata": {},
   "outputs": [
    {
     "name": "stdout",
     "output_type": "stream",
     "text": [
      "True\n",
      "False\n",
      "True\n",
      "True\n",
      "False\n"
     ]
    }
   ],
   "source": [
    "print(all([True, 1, {3}]))   # True, all are truthy\n",
    "print(all([True, 1, {}]))    # False, {} is falsy\n",
    "print(any([True, 1, {}]))    # True, True is truthy\n",
    "print(all([]))               # True, no falsy elements in the list\n",
    "print(any([]))               # False, no truthy elements in the list"
   ]
  },
  {
   "cell_type": "code",
   "execution_count": null,
   "id": "acc1c657-4c56-4d6a-9864-e062a2d6ac81",
   "metadata": {},
   "outputs": [],
   "source": []
  }
 ],
 "metadata": {
  "kernelspec": {
   "display_name": "Python [conda env:base] *",
   "language": "python",
   "name": "conda-base-py"
  },
  "language_info": {
   "codemirror_mode": {
    "name": "ipython",
    "version": 3
   },
   "file_extension": ".py",
   "mimetype": "text/x-python",
   "name": "python",
   "nbconvert_exporter": "python",
   "pygments_lexer": "ipython3",
   "version": "3.12.7"
  }
 },
 "nbformat": 4,
 "nbformat_minor": 5
}
