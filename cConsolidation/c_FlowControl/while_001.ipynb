{
 "cells": [
  {
   "cell_type": "code",
   "execution_count": 2,
   "id": "466541e8-b66b-4099-8018-3eae0a77a507",
   "metadata": {},
   "outputs": [
    {
     "name": "stdout",
     "output_type": "stream",
     "text": [
      "1 while_loop_end\n",
      "2 while_loop_end\n",
      "Let's skip 3\n",
      "4 while_loop_end\n",
      "Let's break at 5\n",
      "Finished!\n"
     ]
    }
   ],
   "source": [
    "i = 0\n",
    "while i <=10:\n",
    "   i += 1\n",
    "   if i == 3:\n",
    "      print(\"Let's skip 3\")\n",
    "      #the \"continue\" statement stops the current iteration and continue with the next one\n",
    "      continue\n",
    "   elif i == 5:\n",
    "      print(\"Let's break at 5\")\n",
    "      #the \"break\" statement stops the loop\n",
    "      break\n",
    "   else :\n",
    "      print(i,end='')   \n",
    "   print(\" while_loop_end\")\n",
    "   \n",
    "print(\"Finished!\")"
   ]
  },
  {
   "cell_type": "code",
   "execution_count": 4,
   "id": "19b72d40-4b01-4a6c-8277-eaf9ae506ab0",
   "metadata": {},
   "outputs": [
    {
     "name": "stdout",
     "output_type": "stream",
     "text": [
      "\n",
      "\n",
      "hello@world@spam@eggs@\n"
     ]
    }
   ],
   "source": [
    "print(\"\\n\")\n",
    "words = [\"hello\", \"world\", \"spam\", \"eggs\"]\n",
    "counter = 0\n",
    "output=\"\"\n",
    "while counter <= len(words) - 1:\n",
    "   output += words[counter]+\"@\"\n",
    "   counter = counter + 1\n",
    "   \n",
    "print(output)"
   ]
  },
  {
   "cell_type": "code",
   "execution_count": 5,
   "id": "ea15cecf-b4c7-4bf4-b4ee-99861639d4a7",
   "metadata": {},
   "outputs": [
    {
     "name": "stdout",
     "output_type": "stream",
     "text": [
      "5\n",
      "i (6) is no longer less than 6\n"
     ]
    }
   ],
   "source": [
    "while i < 6:\n",
    "  print(i)\n",
    "  i += 1\n",
    "else:\n",
    "  print(\"i (\"+str(i)+\") is no longer less than 6\")"
   ]
  },
  {
   "cell_type": "code",
   "execution_count": 6,
   "id": "6564fe69-066b-4f88-ae53-1c55c4ca55fb",
   "metadata": {},
   "outputs": [
    {
     "name": "stdin",
     "output_type": "stream",
     "text": [
      "Play? (y/n): y\n",
      "Guess a number from 1 to 10: 3\n"
     ]
    },
    {
     "name": "stdout",
     "output_type": "stream",
     "text": [
      "Sorry, wrong\n"
     ]
    },
    {
     "name": "stdin",
     "output_type": "stream",
     "text": [
      "Play? (y/n): y\n",
      "Guess a number from 1 to 10: 3\n"
     ]
    },
    {
     "name": "stdout",
     "output_type": "stream",
     "text": [
      "Sorry, wrong\n"
     ]
    },
    {
     "name": "stdin",
     "output_type": "stream",
     "text": [
      "Play? (y/n): \n",
      "Guess a number from 1 to 10: 2\n"
     ]
    },
    {
     "name": "stdout",
     "output_type": "stream",
     "text": [
      "Sorry, wrong\n"
     ]
    },
    {
     "name": "stdin",
     "output_type": "stream",
     "text": [
      "Play? (y/n): n\n"
     ]
    },
    {
     "name": "stdout",
     "output_type": "stream",
     "text": [
      "Bye then!\n"
     ]
    }
   ],
   "source": [
    "number = 7\n",
    "output=\"\"\n",
    "while True:\n",
    "   user_input = input(\"Play? (y/n):\").lower()\n",
    "   if user_input == \"n\":\n",
    "       print(\"Bye then!\")\n",
    "       break\n",
    "   user_number = int(input(\"Guess a number from 1 to 10:\"))\n",
    "   if user_number == number:\n",
    "       print(\"Great!\")\n",
    "   else:\n",
    "       print(\"Sorry, wrong\")"
   ]
  },
  {
   "cell_type": "code",
   "execution_count": null,
   "id": "87862c1e-35d6-4b6e-82fb-afb66a7bc351",
   "metadata": {},
   "outputs": [],
   "source": []
  }
 ],
 "metadata": {
  "kernelspec": {
   "display_name": "Python [conda env:base] *",
   "language": "python",
   "name": "conda-base-py"
  },
  "language_info": {
   "codemirror_mode": {
    "name": "ipython",
    "version": 3
   },
   "file_extension": ".py",
   "mimetype": "text/x-python",
   "name": "python",
   "nbconvert_exporter": "python",
   "pygments_lexer": "ipython3",
   "version": "3.12.7"
  }
 },
 "nbformat": 4,
 "nbformat_minor": 5
}
