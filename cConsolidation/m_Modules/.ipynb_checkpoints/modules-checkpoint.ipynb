{
 "cells": [
  {
   "cell_type": "code",
   "execution_count": 1,
   "id": "1b0c3f61-12ea-45c7-8611-f2fee7a4b16b",
   "metadata": {},
   "outputs": [],
   "source": [
    "# There are 3 main types of modules:\n",
    "# 1) STANDARD LIBRARY = Preinstalled = Python Core\n",
    "# 2) Installed from EXTERNAL SOURCES\n",
    "# 3) Installed by USER (you)"
   ]
  },
  {
   "cell_type": "code",
   "execution_count": 2,
   "id": "9bd31a1d-28b5-4ef2-8d02-601bc5499206",
   "metadata": {},
   "outputs": [],
   "source": [
    "# 1) STANDARD LIBRARY\n",
    "# The Standard Library has modules:\n",
    "# - Specific for Windows\n",
    "# - Specific for Linux/Unix"
   ]
  },
  {
   "cell_type": "code",
   "execution_count": 3,
   "id": "1ff472b9-f8f9-42e6-8617-2925b72ddf68",
   "metadata": {},
   "outputs": [],
   "source": [
    "# 2) from EXTERNAL SOURCES\n",
    "# - many of them are stored on the PIP = PyPI = Python Package Index\n",
    "#     > run pip from the command line, not the Python interpreter!!!\n",
    "# - many of them are not : you have to install by yourself, without pip"
   ]
  },
  {
   "cell_type": "code",
   "execution_count": 5,
   "id": "5a8b3789-390c-4e13-be29-549dd0f2a410",
   "metadata": {},
   "outputs": [
    {
     "name": "stdout",
     "output_type": "stream",
     "text": [
      "3.141592653589793\n",
      "3.141592653589793\n"
     ]
    }
   ],
   "source": [
    "import math\n",
    "print(math.pi)\n",
    "import math as m\n",
    "print(m.pi)"
   ]
  },
  {
   "cell_type": "code",
   "execution_count": 6,
   "id": "d84b9569-8736-4060-b664-cac146cdf865",
   "metadata": {},
   "outputs": [
    {
     "name": "stdout",
     "output_type": "stream",
     "text": [
      "3.141592653589793\n",
      "4.0\n"
     ]
    }
   ],
   "source": [
    "from math import pi, sqrt\n",
    "print(math.pi)\n",
    "print(math.sqrt(16))"
   ]
  },
  {
   "cell_type": "code",
   "execution_count": 7,
   "id": "f463843e-1635-4d0c-a462-4c33df2ca1fb",
   "metadata": {},
   "outputs": [
    {
     "name": "stdout",
     "output_type": "stream",
     "text": [
      "4.0\n"
     ]
    }
   ],
   "source": [
    "from math import sqrt as raiz\n",
    "print(raiz(16))"
   ]
  },
  {
   "cell_type": "code",
   "execution_count": null,
   "id": "a2eae2e1-06b8-435a-80eb-7e2d981052f4",
   "metadata": {},
   "outputs": [],
   "source": []
  }
 ],
 "metadata": {
  "kernelspec": {
   "display_name": "Python [conda env:base] *",
   "language": "python",
   "name": "conda-base-py"
  },
  "language_info": {
   "codemirror_mode": {
    "name": "ipython",
    "version": 3
   },
   "file_extension": ".py",
   "mimetype": "text/x-python",
   "name": "python",
   "nbconvert_exporter": "python",
   "pygments_lexer": "ipython3",
   "version": "3.12.7"
  }
 },
 "nbformat": 4,
 "nbformat_minor": 5
}
