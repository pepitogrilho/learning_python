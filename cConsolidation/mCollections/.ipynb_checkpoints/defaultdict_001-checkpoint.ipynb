{
 "cells": [
  {
   "cell_type": "code",
   "execution_count": null,
   "id": "85da482c-09dc-4e93-a1ef-32d0e331dae9",
   "metadata": {},
   "outputs": [],
   "source": [
    "from collections import defaultdict"
   ]
  },
  {
   "cell_type": "code",
   "execution_count": 4,
   "id": "eddc9c25-a381-49e3-9a58-f444ade92c02",
   "metadata": {},
   "outputs": [
    {
     "name": "stdout",
     "output_type": "stream",
     "text": [
      "{'data': 1, 'science': 1, 'from': 1, 'scratch': 2}\n",
      "defaultdict(<class 'int'>, {})\n",
      "defaultdict(<class 'int'>, {'data': 1, 'science': 1, 'from': 1, 'scratch': 2})\n"
     ]
    }
   ],
   "source": [
    "document = [\"data\", \"science\", \"from\", \"scratch\", \"scratch\"]\n",
    "word_counts = {}\n",
    "for word in document:\n",
    "  prev_count = word_counts.get(word,0) \n",
    "  word_counts[word] = 1 + prev_count\n",
    "print(word_counts)\n",
    "\n",
    "word_counts = defaultdict(int)          # int() produces 0\n",
    "print(word_counts)\n",
    "for word in document:\n",
    "    word_counts[word] += 1\n",
    "print(word_counts)\n"
   ]
  },
  {
   "cell_type": "code",
   "execution_count": 3,
   "id": "0570bcc3-02fb-40f0-831a-6c37e69d18de",
   "metadata": {},
   "outputs": [
    {
     "name": "stdout",
     "output_type": "stream",
     "text": [
      "defaultdict(<class 'list'>, {'Spain': ['Madrid', 'Barcelona'], 'France': ['Paris']})\n"
     ]
    }
   ],
   "source": [
    "names = [(\"Spain\", \"Madrid\"), (\"France\", \"Paris\"), (\"Spain\", \"Barcelona\")]\n",
    "cities_by_country = defaultdict(list)\n",
    "for country, city in names:\n",
    "    cities_by_country[country].append(city)\n",
    "print(cities_by_country)"
   ]
  },
  {
   "cell_type": "code",
   "execution_count": 20,
   "id": "c28fd2bf-3c84-47c7-b44f-f64a6be82efb",
   "metadata": {},
   "outputs": [
    {
     "name": "stdout",
     "output_type": "stream",
     "text": [
      "defaultdict(<class 'list'>, {'Spain': ['Madrid', 'Barcelona']})\n",
      "defaultdict(<class 'list'>, {'Spain': ['Madrid', 'Barcelona']})\n",
      "defaultdict(<class 'list'>, {})\n",
      "defaultdict(<class 'list'>, {'Spain': ['Madrid']})\n",
      "defaultdict(<class 'list'>, {'Spain': ['Madrid', 'Barcelona']})\n",
      "defaultdict(<class 'dict'>, {})\n",
      "defaultdict(<class 'dict'>, {'Spain': {'capital': 'Madrid'}})\n",
      "defaultdict(<class 'dict'>, {'Spain': {'capital': 'Madrid', 'see cities': []}})\n",
      "defaultdict(<class 'dict'>, {'Spain': {'capital': 'Madrid', 'see cities': ['Barcelona']}})\n",
      "defaultdict(<class 'dict'>, {'Spain': {'capital': 'Madrid', 'see cities': ['Barcelona', 'Vigo']}})\n"
     ]
    }
   ],
   "source": [
    "dd_int = defaultdict(int)   ; print(dd_list)\n",
    "dd_int['data']+=1           ; print(dd_list)\n",
    "\n",
    "dd_list = defaultdict(list)           ; print(dd_list)\n",
    "dd_list['Spain'].append(\"Madrid\")     ; print(dd_list)\n",
    "dd_list['Spain'].append(\"Barcelona\")  ; print(dd_list)\n",
    "\n",
    "dd_dict = defaultdict(dict) ; print(dd_dict)\n",
    "dd_dict['Spain']['capital'] = \"Madrid\"             ; print(dd_dict)\n",
    "dd_dict['Spain']['see cities'] = []                ; print(dd_dict)\n",
    "dd_dict['Spain']['see cities'].append(\"Barcelona\") ; print(dd_dict)\n",
    "dd_dict['Spain']['see cities'].append(\"Vigo\")      ; print(dd_dict)\n"
   ]
  },
  {
   "cell_type": "code",
   "execution_count": 22,
   "id": "f5e8989c-7191-4e96-b060-7079d7013c84",
   "metadata": {},
   "outputs": [
    {
     "name": "stdout",
     "output_type": "stream",
     "text": [
      "defaultdict(<function <lambda> at 0x0000017765ADBB00>, {2: [0, 1]})\n"
     ]
    }
   ],
   "source": [
    "dd_pair = defaultdict(lambda: [0, 0])\n",
    "dd_pair[2][1] = 1                       # now dd_pair contains {2: [0, 1]}\n",
    "print(dd_pair)"
   ]
  },
  {
   "cell_type": "code",
   "execution_count": null,
   "id": "1b69c328-501e-48cb-b1ce-472b6fb163f7",
   "metadata": {},
   "outputs": [],
   "source": []
  }
 ],
 "metadata": {
  "kernelspec": {
   "display_name": "Python [conda env:base] *",
   "language": "python",
   "name": "conda-base-py"
  },
  "language_info": {
   "codemirror_mode": {
    "name": "ipython",
    "version": 3
   },
   "file_extension": ".py",
   "mimetype": "text/x-python",
   "name": "python",
   "nbconvert_exporter": "python",
   "pygments_lexer": "ipython3",
   "version": "3.12.7"
  }
 },
 "nbformat": 4,
 "nbformat_minor": 5
}
