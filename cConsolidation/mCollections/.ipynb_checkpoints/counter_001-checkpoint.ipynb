{
 "cells": [
  {
   "cell_type": "code",
   "execution_count": 2,
   "id": "85da482c-09dc-4e93-a1ef-32d0e331dae9",
   "metadata": {},
   "outputs": [],
   "source": [
    "from collections import Counter"
   ]
  },
  {
   "cell_type": "code",
   "execution_count": 5,
   "id": "1b69c328-501e-48cb-b1ce-472b6fb163f7",
   "metadata": {},
   "outputs": [
    {
     "name": "stdout",
     "output_type": "stream",
     "text": [
      "Counter({'scratch': 3, 'from': 2, 'data': 1, 'science': 1})\n",
      "scratch 3\n",
      "from 2\n"
     ]
    }
   ],
   "source": [
    "document = [\"data\", \"science\", \"from\", \"from\", \"scratch\", \"scratch\", \"scratch\"]\n",
    "c = Counter([0, 1, 2, 0])          # c is (basically) {0: 2, 1: 1, 2: 1}\n",
    "word_counts = Counter(document); print(word_counts)\n",
    "# print the 2 most common words and their counts\n",
    "for word, count in word_counts.most_common(2):\n",
    "    print(word, count)"
   ]
  },
  {
   "cell_type": "code",
   "execution_count": null,
   "id": "fce79438-7645-437d-a62e-5d1e353ce2fe",
   "metadata": {},
   "outputs": [],
   "source": []
  }
 ],
 "metadata": {
  "kernelspec": {
   "display_name": "Python [conda env:base] *",
   "language": "python",
   "name": "conda-base-py"
  },
  "language_info": {
   "codemirror_mode": {
    "name": "ipython",
    "version": 3
   },
   "file_extension": ".py",
   "mimetype": "text/x-python",
   "name": "python",
   "nbconvert_exporter": "python",
   "pygments_lexer": "ipython3",
   "version": "3.12.7"
  }
 },
 "nbformat": 4,
 "nbformat_minor": 5
}
